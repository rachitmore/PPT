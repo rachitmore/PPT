{
 "cells": [
  {
   "cell_type": "markdown",
   "id": "63146865",
   "metadata": {},
   "source": [
    "1. Write a Python program to reverse a string without using any built-in string reversal functions."
   ]
  },
  {
   "cell_type": "code",
   "execution_count": 1,
   "id": "9f361fdc",
   "metadata": {},
   "outputs": [
    {
     "name": "stdout",
     "output_type": "stream",
     "text": [
      "0.2 SDSF norueNi\n"
     ]
    }
   ],
   "source": [
    "# function definition\n",
    "def reverseString(string:str)-> str:\n",
    "    \"\"\"\n",
    "    This function takes string and return resverse of string\n",
    "    \"\"\"\n",
    "    return string[::-1]\n",
    "\n",
    "# driver code \n",
    "string = \"iNeuron FSDS 2.0\"\n",
    "result = reverseString(string)\n",
    "print(result)"
   ]
  },
  {
   "cell_type": "markdown",
   "id": "915cccf7",
   "metadata": {},
   "source": [
    "2. Implement a function to check if a given string is a palindrome."
   ]
  },
  {
   "cell_type": "code",
   "execution_count": 2,
   "id": "b1c093fa",
   "metadata": {},
   "outputs": [
    {
     "name": "stdout",
     "output_type": "stream",
     "text": [
      "Naman is palindrome \n",
      "Rachit is not palindrome\n"
     ]
    }
   ],
   "source": [
    "# function definition\n",
    "def ispalindrome(string:str):\n",
    "    \n",
    "    s = string.replace(\" \", \"\").lower()\n",
    "    \n",
    "    if s == reverseString(s):\n",
    "        return f\"{string} is palindrome \"\n",
    "    else:\n",
    "        return f\"{string} is not palindrome\"\n",
    "\n",
    "# driver code\n",
    "string1 = \"Naman\"\n",
    "string2 = \"Rachit\"\n",
    "result1 = ispalindrome(string1)\n",
    "result2 = ispalindrome(string2)\n",
    "print(result1)\n",
    "print(result2)\n"
   ]
  },
  {
   "cell_type": "markdown",
   "id": "939e3bfb",
   "metadata": {},
   "source": [
    "3. Write a program to find the largest element in a given list."
   ]
  },
  {
   "cell_type": "code",
   "execution_count": 3,
   "id": "cdc97b92",
   "metadata": {},
   "outputs": [
    {
     "name": "stdout",
     "output_type": "stream",
     "text": [
      "Largest element of the given list is 74\n"
     ]
    }
   ],
   "source": [
    "# function definition\n",
    "def largestElement(arr)-> int:\n",
    "    largest = 0\n",
    "    for i in arr:\n",
    "        if i > largest:\n",
    "            largest = i\n",
    "        else:\n",
    "            pass\n",
    "    return largest\n",
    "\n",
    "# driver code\n",
    "arr = [1,2,0,45,74,65,11,-1]\n",
    "result = largestElement(arr)\n",
    "print(f\"Largest element of the given list is {result}\")"
   ]
  },
  {
   "cell_type": "markdown",
   "id": "7b7cbf05",
   "metadata": {},
   "source": [
    "4. Implement a function to count the occurrence of each element in a list."
   ]
  },
  {
   "cell_type": "code",
   "execution_count": 4,
   "id": "679ba2f5",
   "metadata": {},
   "outputs": [
    {
     "name": "stdout",
     "output_type": "stream",
     "text": [
      "{1: 1, 2: 2, 3: 1, 'cat': 2, 'dog': 1, 'animal': 1}\n"
     ]
    }
   ],
   "source": [
    "# function definition\n",
    "def count_occurrence(lst:list) -> dict:\n",
    "    occurrence = {}\n",
    "    for element in lst:\n",
    "        if element in occurrence:\n",
    "            occurrence[element] += 1\n",
    "        else:\n",
    "            occurrence[element] = 1\n",
    "            \n",
    "    return occurrence\n",
    "\n",
    "# driver code\n",
    "lst = [1, 2, 3, 2, \"cat\", \"dog\", \"animal\", \"cat\"] \n",
    "result = count_occurrence(lst)\n",
    "print(result)"
   ]
  },
  {
   "cell_type": "markdown",
   "id": "78425fac",
   "metadata": {},
   "source": [
    "5. Write a Python program to find the second largest number in a list."
   ]
  },
  {
   "cell_type": "code",
   "execution_count": 5,
   "id": "af357644",
   "metadata": {},
   "outputs": [
    {
     "name": "stdout",
     "output_type": "stream",
     "text": [
      "Second largest number: 12\n"
     ]
    }
   ],
   "source": [
    "# function definition\n",
    "def findSecondLargest(lst:list)-> int:\n",
    "    if len(lst) < 2:\n",
    "        return None\n",
    "\n",
    "    largest = float('-inf')\n",
    "    second_largest = float('-inf')\n",
    "\n",
    "    for num in lst:\n",
    "        if num > largest:\n",
    "            second_largest = largest\n",
    "            largest = num\n",
    "        elif num > second_largest and num != largest:\n",
    "            second_largest = num\n",
    "\n",
    "    if second_largest == float('-inf'):\n",
    "        return None\n",
    "\n",
    "    return second_largest\n",
    "\n",
    "# driver code\n",
    "lst = [5, 8, 12, 15, 3, 1, 4]\n",
    "result = findSecondLargest(lst)\n",
    "print(\"Second largest number:\", result)\n"
   ]
  },
  {
   "cell_type": "markdown",
   "id": "1564d52a",
   "metadata": {},
   "source": [
    "6. Implement a function to remove duplicate elements from a list."
   ]
  },
  {
   "cell_type": "code",
   "execution_count": 6,
   "id": "872d5381",
   "metadata": {},
   "outputs": [
    {
     "name": "stdout",
     "output_type": "stream",
     "text": [
      "{1, 3, 4, 5, 8, 12, 15}\n"
     ]
    }
   ],
   "source": [
    "# function definition\n",
    "def removeDuplicate(lst:list)->list:\n",
    "    return set(lst)\n",
    "\n",
    "# driver code\n",
    "lst = [5, 8, 12, 15, 3, 1, 4, 15,4]\n",
    "result = removeDuplicate(lst)\n",
    "print(result)"
   ]
  },
  {
   "cell_type": "markdown",
   "id": "15542d06",
   "metadata": {},
   "source": [
    "7. Write a program to calculate the factorial of a given number."
   ]
  },
  {
   "cell_type": "code",
   "execution_count": 7,
   "id": "15127bc2",
   "metadata": {},
   "outputs": [
    {
     "name": "stdout",
     "output_type": "stream",
     "text": [
      "Factorial of 5 is 120\n"
     ]
    }
   ],
   "source": [
    "# function definition\n",
    "def factorial(n:int)->int:\n",
    "    fact = 1\n",
    "    if n < 0:\n",
    "        return \"Factorial is not defined for negative numbers.\"\n",
    "    elif n == 0:\n",
    "        return 1\n",
    "    else:\n",
    "        return n * factorial(n-1)\n",
    "        \n",
    "# driver code\n",
    "number = 5\n",
    "result = factorial(number)\n",
    "print(\"Factorial of\", number, \"is\", result)"
   ]
  },
  {
   "cell_type": "markdown",
   "id": "191adbec",
   "metadata": {},
   "source": [
    "8. Implement a function to check if a given number is prime."
   ]
  },
  {
   "cell_type": "code",
   "execution_count": 8,
   "id": "f399ec12",
   "metadata": {},
   "outputs": [
    {
     "name": "stdout",
     "output_type": "stream",
     "text": [
      "17 is prime.\n",
      "107 is prime.\n",
      "8 is not prime.\n"
     ]
    }
   ],
   "source": [
    "# function definition\n",
    "def is_prime(num:int)->bool:\n",
    "    if num < 2:\n",
    "        return False\n",
    "\n",
    "    if num == 2:\n",
    "        return True\n",
    "\n",
    "    if num % 2 == 0:\n",
    "        return False\n",
    "\n",
    "    i = 3\n",
    "    while i * i <= num:\n",
    "        if num % i == 0:\n",
    "            return False\n",
    "        i += 2\n",
    "\n",
    "    return True\n",
    "\n",
    "# driver code\n",
    "num = 17\n",
    "if is_prime(num):\n",
    "    print(num, \"is prime.\")\n",
    "else:\n",
    "    print(num, \"is not prime.\")\n",
    "\n",
    "num = 107\n",
    "if is_prime(num):\n",
    "    print(num, \"is prime.\")\n",
    "else:\n",
    "    print(num, \"is not prime.\")\n",
    "\n",
    "num = 8\n",
    "if is_prime(num):\n",
    "    print(num, \"is prime.\")\n",
    "else:\n",
    "    print(num, \"is not prime.\")\n"
   ]
  },
  {
   "cell_type": "markdown",
   "id": "3142a88b",
   "metadata": {},
   "source": [
    "9. Write a Python program to sort a list of integers in ascending order."
   ]
  },
  {
   "cell_type": "code",
   "execution_count": 9,
   "id": "18c94b15",
   "metadata": {},
   "outputs": [
    {
     "name": "stdout",
     "output_type": "stream",
     "text": [
      "Sorted list: [1, 2, 3, 5, 8]\n"
     ]
    }
   ],
   "source": [
    "# function definition\n",
    "def bubble_sort(lst:list)-> list:\n",
    "    n = len(lst)\n",
    "\n",
    "    for i in range(n - 1):\n",
    "        for j in range(n - 1 - i):\n",
    "            if lst[j] > lst[j + 1]:\n",
    "                lst[j], lst[j + 1] = lst[j + 1], lst[j]\n",
    "\n",
    "    return lst\n",
    "\n",
    "# driver code\n",
    "my_list = [5, 2, 8, 1, 3]\n",
    "result = bubble_sort(my_list)\n",
    "print(\"Sorted list:\", result)"
   ]
  },
  {
   "cell_type": "markdown",
   "id": "001d4cdc",
   "metadata": {},
   "source": [
    "10. Implement a function to find the sum of all numbers in a list."
   ]
  },
  {
   "cell_type": "code",
   "execution_count": 10,
   "id": "8c12f83c",
   "metadata": {},
   "outputs": [
    {
     "name": "stdout",
     "output_type": "stream",
     "text": [
      "Sum of all number in a list is 30\n"
     ]
    }
   ],
   "source": [
    "# function definition\n",
    "def sumOfnumber(lst:list)-> int:\n",
    "    num = 0\n",
    "    for element in lst:\n",
    "        num+=element\n",
    "        \n",
    "    return num\n",
    "\n",
    "# driver code\n",
    "lst = [1,3,4,6,7,9]\n",
    "result = sumOfnumber(lst)\n",
    "print(f\"Sum of all number in a list is {result}\")"
   ]
  },
  {
   "cell_type": "markdown",
   "id": "77839dcc",
   "metadata": {},
   "source": [
    "11. Write a program to find the common elements between two lists."
   ]
  },
  {
   "cell_type": "code",
   "execution_count": 11,
   "id": "d59972d3",
   "metadata": {},
   "outputs": [
    {
     "name": "stdout",
     "output_type": "stream",
     "text": [
      "[5, 6]\n"
     ]
    }
   ],
   "source": [
    "def find_common_elements(l1:list, l2:list)->list:\n",
    "    common = set(l1) & set(l2)\n",
    "    return list(common)\n",
    "\n",
    "# driver code\n",
    "l1 = [1,2,3,4,5,6]\n",
    "l2 = [9,8,7,6,5,6]\n",
    "result = find_common_elements(l1,l2)\n",
    "print(result)"
   ]
  },
  {
   "cell_type": "markdown",
   "id": "8b73ccae",
   "metadata": {},
   "source": [
    "12. Implement a function to check if a given string is an anagram of another string."
   ]
  },
  {
   "cell_type": "code",
   "execution_count": 12,
   "id": "5e2b9ab6",
   "metadata": {},
   "outputs": [
    {
     "name": "stdout",
     "output_type": "stream",
     "text": [
      "The strings are anagrams.\n"
     ]
    }
   ],
   "source": [
    "def isAnagram(str1:str, str2:str)->None:\n",
    "    # remove whitespace and convert to lowercase\n",
    "    str1 = str1.replace(\" \", \"\").lower()\n",
    "    str2 = str2.replace(\" \", \"\").lower()\n",
    "\n",
    "    # check if the sorted strings are equal\n",
    "    if sorted(str1) == sorted(str2):\n",
    "        return \"The strings are anagrams.\"\n",
    "    else:\n",
    "        return \"The strings are not anagrams.\"\n",
    "\n",
    "# driver code\n",
    "str1 = \"night\" \n",
    "str2 = \"thing\"\n",
    "result = isAnagram(str1,str2) \n",
    "print(result)"
   ]
  },
  {
   "cell_type": "markdown",
   "id": "77d9529b",
   "metadata": {},
   "source": [
    "13. Write a Python program to generate all permutations of a given string."
   ]
  },
  {
   "cell_type": "code",
   "execution_count": 13,
   "id": "a97c891e",
   "metadata": {},
   "outputs": [
    {
     "name": "stdout",
     "output_type": "stream",
     "text": [
      "Permutations: ['Neo', 'Noe', 'eNo', 'eoN', 'oNe', 'oeN']\n"
     ]
    }
   ],
   "source": [
    "def permutations(string:str)->list:\n",
    "    if len(string) == 0:\n",
    "        return []\n",
    "\n",
    "    if len(string) == 1:\n",
    "        return [string]\n",
    "\n",
    "    perms = []\n",
    "    for i in range(len(string)):\n",
    "        current_char = string[i]\n",
    "        remaining_chars = string[:i] + string[i+1:]\n",
    "        for perm in permutations(remaining_chars):\n",
    "            perms.append(current_char + perm)\n",
    "\n",
    "    return perms\n",
    "\n",
    "# driver code\n",
    "string = \"Neo\"\n",
    "result = permutations(string)\n",
    "print(f\"Permutations: {result}\")"
   ]
  },
  {
   "cell_type": "markdown",
   "id": "0cebfb9d",
   "metadata": {},
   "source": [
    "14. Implement a function to calculate the Fibonacci sequence up to a given number of terms."
   ]
  },
  {
   "cell_type": "code",
   "execution_count": 14,
   "id": "accac8f4",
   "metadata": {},
   "outputs": [
    {
     "name": "stdout",
     "output_type": "stream",
     "text": [
      "Fibonacci sequence: [0, 1, 1, 2, 3, 5, 8, 13, 21, 34]\n"
     ]
    }
   ],
   "source": [
    "def fibonacciSequence(term:int)->list:\n",
    "    sequence = []\n",
    "    a, b = 0, 1\n",
    "\n",
    "    for _ in range(term):\n",
    "        sequence.append(a)\n",
    "        a, b = b, a + b\n",
    "\n",
    "    return sequence\n",
    "# driver code\n",
    "term = 10\n",
    "result = fibonacciSequence(term)\n",
    "print(\"Fibonacci sequence:\", result)"
   ]
  },
  {
   "cell_type": "markdown",
   "id": "698f81c5",
   "metadata": {},
   "source": [
    "15. Write a program to find the median of a list of numbers."
   ]
  },
  {
   "cell_type": "code",
   "execution_count": 15,
   "id": "f59f92ef",
   "metadata": {},
   "outputs": [
    {
     "name": "stdout",
     "output_type": "stream",
     "text": [
      "Median of [1, 2, 3, 4, 5, 6, 7] is 4\n",
      "Median of [1, 2, 3, 4, 5, 6, 7, 8] is 4.5\n"
     ]
    }
   ],
   "source": [
    "# function definition\n",
    "def findMedian(lst:list)->int:\n",
    "    sorted_list = sorted(lst)\n",
    "    length = len(sorted_list)\n",
    "\n",
    "    if length % 2 == 0:\n",
    "        middle_right = length // 2\n",
    "        middle_left = middle_right - 1\n",
    "        median = (sorted_list[middle_left] + sorted_list[middle_right]) / 2\n",
    "    else:\n",
    "        middle = length // 2\n",
    "        median = sorted_list[middle]\n",
    "\n",
    "    return median\n",
    "\n",
    "# driver code\n",
    "lst1 = [1,2,3,4,5,6,7]\n",
    "result = findMedian(lst1)\n",
    "print(f\"Median of {lst1} is {result}\")\n",
    "\n",
    "lst2 = [1,2,3,4,5,6,7,8]\n",
    "result = findMedian(lst2)\n",
    "print(f\"Median of {lst2} is {result}\")"
   ]
  },
  {
   "cell_type": "markdown",
   "id": "00893b2f",
   "metadata": {},
   "source": [
    "16. Implement a function to check if a given list is sorted in non-decreasing order."
   ]
  },
  {
   "cell_type": "code",
   "execution_count": 16,
   "id": "3d6905d6",
   "metadata": {},
   "outputs": [
    {
     "name": "stdout",
     "output_type": "stream",
     "text": [
      "The list [1, 4, 5, 7, 8, 2, 1] is not sorted in non-decreasing order.\n",
      "The list [1, 2, 3, 4, 5, 6, 7] is sorted in non-decreasing order.\n"
     ]
    }
   ],
   "source": [
    "# function definition\n",
    "def non_decreasingOrder(lst:list)->None:\n",
    "    for i in range(len(lst) - 1):\n",
    "        if lst[i] > lst[i + 1]:\n",
    "            return f\"The list {lst} is not sorted in non-decreasing order.\"\n",
    "    return f\"The list {lst} is sorted in non-decreasing order.\"\n",
    "\n",
    "# driver code\n",
    "lst1 = [1,4,5,7,8,2,1]\n",
    "result = non_decreasingOrder(lst1)\n",
    "print(result)\n",
    "\n",
    "lst2 = [1,2,3,4,5,6,7]\n",
    "result = non_decreasingOrder(lst2)\n",
    "print(result)"
   ]
  },
  {
   "cell_type": "markdown",
   "id": "686373ea",
   "metadata": {},
   "source": [
    "17. Write a Python program to find the intersection of two lists."
   ]
  },
  {
   "cell_type": "code",
   "execution_count": 17,
   "id": "8341bb62",
   "metadata": {},
   "outputs": [
    {
     "name": "stdout",
     "output_type": "stream",
     "text": [
      "Intersection [4, 5, 7]\n"
     ]
    }
   ],
   "source": [
    "# function definition\n",
    "def findIntersection(lst1:list, lst2:list)->list:\n",
    "    set1 = set(lst1)\n",
    "    set2 = set(lst2)\n",
    "    intersection = set1.intersection(set2)\n",
    "    return list(intersection)\n",
    "\n",
    "# driver code\n",
    "lst1 = [1,4,5,7,8,20,10]\n",
    "lst2 = [2,3,4,5,6,7]\n",
    "result = findIntersection(lst1, lst2)\n",
    "print(\"Intersection\",result)"
   ]
  },
  {
   "cell_type": "markdown",
   "id": "59a8595c",
   "metadata": {},
   "source": [
    "18. Implement a function to find the maximum subarray sum in a given list."
   ]
  },
  {
   "cell_type": "code",
   "execution_count": 18,
   "id": "c2345f0f",
   "metadata": {},
   "outputs": [
    {
     "name": "stdout",
     "output_type": "stream",
     "text": [
      "Maximum subarray sum: 6\n"
     ]
    }
   ],
   "source": [
    "# function definition\n",
    "def max_subarray_sum(lst:list)->int:\n",
    "    if not lst:\n",
    "        return 0\n",
    "\n",
    "    current_sum = max_sum = lst[0]\n",
    "\n",
    "    for num in lst[1:]:\n",
    "        current_sum = max(num, current_sum + num)\n",
    "        max_sum = max(max_sum, current_sum)\n",
    "\n",
    "    return max_sum\n",
    "\n",
    "# driver code\n",
    "lst1 = [-2, 1, -3, 4, -1, 2, 1, -5, 4]\n",
    "result = max_subarray_sum(lst1)\n",
    "print(\"Maximum subarray sum:\", result)"
   ]
  },
  {
   "cell_type": "markdown",
   "id": "7cb9c1d6",
   "metadata": {},
   "source": [
    "19. Write a program to remove all vowels from a given string."
   ]
  },
  {
   "cell_type": "code",
   "execution_count": 19,
   "id": "a5166d3f",
   "metadata": {},
   "outputs": [
    {
     "name": "stdout",
     "output_type": "stream",
     "text": [
      "Wlcm t th Nrn\n"
     ]
    }
   ],
   "source": [
    "# function definition\n",
    "def removeVowels(string:str)->str:\n",
    "    vowel = [\"a\", \"e\", \"i\", \"o\", \"u\"]\n",
    "    for i in string:\n",
    "        if i in vowel:\n",
    "            string = string.replace(i,\"\")\n",
    "        \n",
    "    return string\n",
    "# driver code\n",
    "string = \"Welcome to the iNeuron\"\n",
    "result = removeVowels(string)\n",
    "print(result)"
   ]
  },
  {
   "cell_type": "markdown",
   "id": "a57edab2",
   "metadata": {},
   "source": [
    "20. Implement a function to reverse the order of words in a given sentence."
   ]
  },
  {
   "cell_type": "code",
   "execution_count": 20,
   "id": "7662cbb1",
   "metadata": {},
   "outputs": [
    {
     "name": "stdout",
     "output_type": "stream",
     "text": [
      "disciplines various incorporates science Data\n"
     ]
    }
   ],
   "source": [
    "# function definition\n",
    "def reverseOrder(sentence:str)->str:\n",
    "    # create a list of word of given sentence\n",
    "    word_list = sentence.split()\n",
    "    \n",
    "    # reversed the list\n",
    "    reverse = word_list[::-1]\n",
    "    \n",
    "    # convert list into string\n",
    "    reversed_sentence = \" \".join(reverse)\n",
    "    \n",
    "    # remove unneccesary whitespaces \n",
    "    reversed_sentence = reversed_sentence.replace(\"  \",\" \")\n",
    "    \n",
    "    return reversed_sentence\n",
    "\n",
    "# driver code\n",
    "sentence = \"Data science incorporates various disciplines\"\n",
    "result = reverseOrder(sentence)\n",
    "print(result)"
   ]
  },
  {
   "cell_type": "markdown",
   "id": "fdd5af35",
   "metadata": {},
   "source": [
    "21. Write a Python program to check if two strings are anagrams of each other."
   ]
  },
  {
   "cell_type": "code",
   "execution_count": 21,
   "id": "28e77a50",
   "metadata": {},
   "outputs": [
    {
     "name": "stdout",
     "output_type": "stream",
     "text": [
      "The strings are anagrams.\n"
     ]
    }
   ],
   "source": [
    "# function definition\n",
    "def isAnagram(str1:str, str2:str)->None:\n",
    "    # remove whitespace and convert to lowercase\n",
    "    str1 = str1.replace(\" \", \"\").lower()\n",
    "    str2 = str2.replace(\" \", \"\").lower()\n",
    "\n",
    "    # check if the sorted strings are equal\n",
    "    if sorted(str1) == sorted(str2):\n",
    "        return \"The strings are anagrams.\"\n",
    "    else:\n",
    "        return \"The strings are not anagrams.\"\n",
    "\n",
    "# driver code\n",
    "str1 = \"night\" \n",
    "str2 = \"thing\"\n",
    "result = isAnagram(str1,str2) \n",
    "print(result)"
   ]
  },
  {
   "cell_type": "markdown",
   "id": "38f6629b",
   "metadata": {},
   "source": [
    "22. Implement a function to find the first non-repeating character in a string."
   ]
  },
  {
   "cell_type": "code",
   "execution_count": 22,
   "id": "a7920c73",
   "metadata": {},
   "outputs": [
    {
     "name": "stdout",
     "output_type": "stream",
     "text": [
      "First non-repeating character: h\n"
     ]
    }
   ],
   "source": [
    "# function definition\n",
    "def find_first_non_repeating_char(string:str)->str:\n",
    "    char_count = {}\n",
    "\n",
    "    # count the frequency of each character\n",
    "    for char in string:\n",
    "        char_count[char] = char_count.get(char, 0) + 1\n",
    "\n",
    "    # find the first non-repeating character\n",
    "    for char in string:\n",
    "        if char_count[char] == 1:\n",
    "            return f\"First non-repeating character: {char}\"\n",
    "\n",
    "    # return None if no non-repeating character found\n",
    "    return \"No non-repeating character found.\"\n",
    "\n",
    "# driver code\n",
    "string = \"hello world\"\n",
    "result = find_first_non_repeating_char(string)\n",
    "print(result)\n"
   ]
  },
  {
   "cell_type": "markdown",
   "id": "69f65b85",
   "metadata": {},
   "source": [
    "23. Write a program to find the prime factors of a given number."
   ]
  },
  {
   "cell_type": "code",
   "execution_count": 23,
   "id": "9c909087",
   "metadata": {},
   "outputs": [
    {
     "name": "stdout",
     "output_type": "stream",
     "text": [
      "Prime factors: [3, 3, 5]\n"
     ]
    }
   ],
   "source": [
    "# function definition\n",
    "def find_prime_factors(num:int)->list:\n",
    "    factors = []\n",
    "\n",
    "    # check for divisibility by 2\n",
    "    while num % 2 == 0:\n",
    "        factors.append(2)\n",
    "        num = num // 2\n",
    "\n",
    "    # check for divisibility by odd numbers starting from 3\n",
    "    i = 3\n",
    "    while i * i <= num:\n",
    "        while num % i == 0:\n",
    "            factors.append(i)\n",
    "            num = num // i\n",
    "        i += 2\n",
    "\n",
    "    # if the remaining number is prime\n",
    "    if num > 1:\n",
    "        factors.append(num)\n",
    "\n",
    "    return factors\n",
    "\n",
    "# driver code\n",
    "num = 45\n",
    "result = find_prime_factors(num)\n",
    "print(\"Prime factors:\", result)"
   ]
  },
  {
   "cell_type": "markdown",
   "id": "c4ecd93f",
   "metadata": {},
   "source": [
    "24. Implement a function to check if a given number is a power of two."
   ]
  },
  {
   "cell_type": "code",
   "execution_count": 24,
   "id": "7740c285",
   "metadata": {},
   "outputs": [
    {
     "name": "stdout",
     "output_type": "stream",
     "text": [
      "16 is a power of two.\n",
      "9 is not a power of two.\n"
     ]
    }
   ],
   "source": [
    "# function definition\n",
    "def is_power_of_two(num:int)->None:\n",
    "    flag = False\n",
    "    if num <= 0:\n",
    "        flag = False\n",
    "        \n",
    "    else:\n",
    "         # check if the number is a power of two\n",
    "        flag = (num & (num - 1)) == 0\n",
    "        \n",
    "    if flag:\n",
    "        return f\"{num} is a power of two.\"\n",
    "    else:\n",
    "        return f\"{num} is not a power of two.\"\n",
    "\n",
    "\n",
    "# driver code\n",
    "num = 16\n",
    "result = is_power_of_two(num)\n",
    "print(result)\n",
    "\n",
    "num = 9\n",
    "result = is_power_of_two(num)\n",
    "print(result)"
   ]
  },
  {
   "cell_type": "markdown",
   "id": "01e83435",
   "metadata": {},
   "source": [
    "25. Write a Python program to merge two sorted lists into a single sorted list."
   ]
  },
  {
   "cell_type": "code",
   "execution_count": 25,
   "id": "28a40a7f",
   "metadata": {},
   "outputs": [
    {
     "name": "stdout",
     "output_type": "stream",
     "text": [
      "Merged Sorted list : [1, 4, 6, 7, 8, 9, 12, 13, 16, 18]\n"
     ]
    }
   ],
   "source": [
    "# function definition\n",
    "def mergeSorted(lst1:list,lst2:list)->list:\n",
    "    # merge two list\n",
    "    lst1.extend(lst2)\n",
    "    \n",
    "    return sorted(lst1)# return the sorted list\n",
    "\n",
    "# driver code \n",
    "lst1 = [1,6,7,9,13]\n",
    "lst2 = [4,8,12,16,18]\n",
    "result = mergeSorted(lst1,lst2)\n",
    "print(f\"Merged Sorted list : {result}\")"
   ]
  },
  {
   "cell_type": "markdown",
   "id": "4a9633ed",
   "metadata": {},
   "source": [
    "26. Implement a function to find the mode of a list of numbers."
   ]
  },
  {
   "cell_type": "code",
   "execution_count": 26,
   "id": "6699f840",
   "metadata": {},
   "outputs": [
    {
     "name": "stdout",
     "output_type": "stream",
     "text": [
      "Mode: 2\n"
     ]
    }
   ],
   "source": [
    "# function definition\n",
    "def find_mode(lst:list)->int:\n",
    "    counts = {}\n",
    "    for number in lst:\n",
    "        counts[number] = counts.get(number, 0) + 1\n",
    "\n",
    "    max_count = 0\n",
    "    mode = None\n",
    "    for number, count in counts.items():\n",
    "        if count > max_count:\n",
    "            max_count = count\n",
    "            mode = number\n",
    "\n",
    "    return mode\n",
    "\n",
    "# driver code\n",
    "lst = [1, 2, 3, 2, 5, 4, 3, 2, 5, 2, 3, 4]\n",
    "result = find_mode(lst)\n",
    "print(\"Mode:\", result)\n"
   ]
  },
  {
   "cell_type": "markdown",
   "id": "5827e03a",
   "metadata": {},
   "source": [
    "27. Write a program to find the greatest common divisor (GCD) of two numbers."
   ]
  },
  {
   "cell_type": "code",
   "execution_count": 27,
   "id": "5c48b392",
   "metadata": {},
   "outputs": [
    {
     "name": "stdout",
     "output_type": "stream",
     "text": [
      "Greatest Common Divisor (GCD): 10\n"
     ]
    }
   ],
   "source": [
    "# function definition\n",
    "def find_gcd(a:int, b:int)->int:\n",
    "    while b != 0:\n",
    "        a, b = b, a % b\n",
    "    return a\n",
    "\n",
    "# driver code\n",
    "num1 = 10\n",
    "num2 = 20\n",
    "result = find_gcd(num1, num2)\n",
    "print(\"Greatest Common Divisor (GCD):\", result)"
   ]
  },
  {
   "cell_type": "markdown",
   "id": "3413c376",
   "metadata": {},
   "source": [
    "28. Implement a function to calculate the square root of a given number."
   ]
  },
  {
   "cell_type": "code",
   "execution_count": 28,
   "id": "c8ade5af",
   "metadata": {},
   "outputs": [
    {
     "name": "stdout",
     "output_type": "stream",
     "text": [
      "Square root of given number (4) is 2.0.\n"
     ]
    }
   ],
   "source": [
    "# function definition\n",
    "def sqrt(num:int)->int:\n",
    "    return num ** 0.5\n",
    "    \n",
    "# driver code\n",
    "num = 4\n",
    "result = sqrt(num)\n",
    "print(f\"Square root of given number ({num}) is {result}.\")"
   ]
  },
  {
   "cell_type": "markdown",
   "id": "512a0a88",
   "metadata": {},
   "source": [
    "29. Write a Python program to check if a given string is a valid palindrome ignoring non-alphanumeric characters."
   ]
  },
  {
   "cell_type": "code",
   "execution_count": 29,
   "id": "3a63b26d",
   "metadata": {},
   "outputs": [
    {
     "name": "stdout",
     "output_type": "stream",
     "text": [
      "The string racecar is a valid palindrome.\n",
      "The string **naman%$ is a valid palindrome.\n",
      "The string hello_world is not a valid palindrome.\n"
     ]
    }
   ],
   "source": [
    "import re\n",
    "# function definition\n",
    "def isPalindrome(string:str)->None:\n",
    "    # removing non alphanumeric characters\n",
    "    alphanumeric_string = re.sub(r'[^a-zA-Z0-9]', '', string)\n",
    "    \n",
    "    # converting string into lower case\n",
    "    alphanumeric_string = alphanumeric_string.lower()\n",
    "    \n",
    "    # checking\n",
    "    if alphanumeric_string == alphanumeric_string[::-1]:\n",
    "        return f\"The string {string} is a valid palindrome.\"\n",
    "    else:\n",
    "        return f\"The string {string} is not a valid palindrome.\"\n",
    "    \n",
    "# driver code\n",
    "string = \"racecar\"\n",
    "result = isPalindrome(string)\n",
    "print(result)\n",
    "\n",
    "string = \"**naman%$\"\n",
    "result = isPalindrome(string)\n",
    "print(result)\n",
    "\n",
    "string = \"hello_world\"\n",
    "result = isPalindrome(string)\n",
    "print(result)"
   ]
  },
  {
   "cell_type": "markdown",
   "id": "69eac82f",
   "metadata": {},
   "source": [
    "30. Implement a function to find the minimum element in a rotated sorted list."
   ]
  },
  {
   "cell_type": "code",
   "execution_count": 30,
   "id": "644c066d",
   "metadata": {},
   "outputs": [
    {
     "name": "stdout",
     "output_type": "stream",
     "text": [
      "0\n"
     ]
    }
   ],
   "source": [
    "# function definition\n",
    "def rotatedSortedlist(lst:list)->int:\n",
    "    left = 0\n",
    "    right = len(lst) - 1\n",
    "\n",
    "    while left < right:\n",
    "        mid = (left + right) // 2\n",
    "\n",
    "        # check if the mid element is greater than the rightmost element\n",
    "        if lst[mid] > lst[right]:\n",
    "            left = mid + 1\n",
    "        # check if the mid element is smaller than the rightmost element\n",
    "        elif lst[mid] < lst[right]:\n",
    "            right = mid\n",
    "        # if mid and right elements are equal, decrement right\n",
    "        else:\n",
    "            right -= 1\n",
    "\n",
    "    return lst[left]\n",
    "\n",
    "# driver code\n",
    "lst = [4, 5, 6, 7, 0, 1, 2]\n",
    "result = rotatedSortedlist(lst)\n",
    "print(result)"
   ]
  },
  {
   "cell_type": "markdown",
   "id": "bebf4980",
   "metadata": {},
   "source": [
    "31. Write a program to find the sum of all even numbers in a list."
   ]
  },
  {
   "cell_type": "code",
   "execution_count": 31,
   "id": "47c22bf6",
   "metadata": {},
   "outputs": [
    {
     "name": "stdout",
     "output_type": "stream",
     "text": [
      "Sum of all even number in a list is 30.\n"
     ]
    }
   ],
   "source": [
    "# function definition\n",
    "def sumOfeven(lst:list)->int:\n",
    "    even = 0\n",
    "    for i in lst:\n",
    "        if i%2==0:\n",
    "            even+=i\n",
    "    return even\n",
    "\n",
    "# driver code \n",
    "lst = [1,2,3,4,5,6,7,8,9,10]\n",
    "result = sumOfeven(lst)\n",
    "print(f\"Sum of all even number in a list is {result}.\")"
   ]
  },
  {
   "cell_type": "markdown",
   "id": "0a0bed94",
   "metadata": {},
   "source": [
    "32. Implement a function to calculate the power of a number using recursion."
   ]
  },
  {
   "cell_type": "code",
   "execution_count": 32,
   "id": "95b58a5a",
   "metadata": {},
   "outputs": [
    {
     "name": "stdout",
     "output_type": "stream",
     "text": [
      "The power of a number using recursion 512\n"
     ]
    }
   ],
   "source": [
    "# function definition\n",
    "def powerOfnumber(base:int,exp:int)->int:\n",
    "    if exp == 0:\n",
    "        return 0\n",
    "    elif exp == 1:\n",
    "        return base\n",
    "    else:\n",
    "        return base * powerOfnumber(base,exp-1)\n",
    "    \n",
    "# driver code\n",
    "base = 8\n",
    "exp = 3\n",
    "result = powerOfnumber(base,exp)\n",
    "print(f\"The power of a number using recursion {result}\")"
   ]
  },
  {
   "cell_type": "markdown",
   "id": "bea85010",
   "metadata": {},
   "source": [
    "33. Write a Python program to remove duplicates from a list while preserving the order."
   ]
  },
  {
   "cell_type": "code",
   "execution_count": 33,
   "id": "6d34e4fc",
   "metadata": {},
   "outputs": [
    {
     "name": "stdout",
     "output_type": "stream",
     "text": [
      "List with duplicates removed: [1, 9, 3, 8, 2, 4, 5]\n"
     ]
    }
   ],
   "source": [
    "# function definition\n",
    "def remove_duplicates(lst:list)->list:\n",
    "    seen = set()\n",
    "    result = []\n",
    "    for item in lst:\n",
    "        if item not in seen:\n",
    "            result.append(item)\n",
    "            seen.add(item)\n",
    "    return result\n",
    "\n",
    "# driver code\n",
    "lst = [1, 9, 3, 8, 2, 2, 2, 1, 4, 5, 1, 3]\n",
    "result = remove_duplicates(lst)\n",
    "print(\"List with duplicates removed:\", result)\n"
   ]
  },
  {
   "cell_type": "markdown",
   "id": "429e93c8",
   "metadata": {},
   "source": [
    "34. Implement a function to find the longest common prefix among a list of strings."
   ]
  },
  {
   "cell_type": "code",
   "execution_count": 34,
   "id": "786a5c1f",
   "metadata": {},
   "outputs": [
    {
     "name": "stdout",
     "output_type": "stream",
     "text": [
      "The longest common prefix among a list of strings are pre\n"
     ]
    }
   ],
   "source": [
    "# function definition\n",
    "def findLongestCommonPrefix(list_string:list)->str:\n",
    "    if not list_string:\n",
    "        return \"\"\n",
    "\n",
    "    # sort the strings to ensure the shortest string comes first\n",
    "    list_string.sort()\n",
    "\n",
    "    # consider the first and last string in the sorted list\n",
    "    first_string = list_string[0]\n",
    "    last_string = list_string[-1]\n",
    "\n",
    "    # find the common prefix between the first and last string\n",
    "    prefix = \"\"\n",
    "    for i in range(len(first_string)):\n",
    "        if first_string[i] == last_string[i]:\n",
    "            prefix += first_string[i]\n",
    "        else:\n",
    "            break\n",
    "\n",
    "    return prefix\n",
    "\n",
    "# driver code \n",
    "list_string = [\"preheat\", \"preview\", \"precaution\", \"preface\"]\n",
    "result = findLongestCommonPrefix(list_string)\n",
    "print(\"The longest common prefix among a list of strings are\",result)"
   ]
  },
  {
   "cell_type": "markdown",
   "id": "bc91f8be",
   "metadata": {},
   "source": [
    "35. Write a program to check if a given number is a perfect square."
   ]
  },
  {
   "cell_type": "code",
   "execution_count": 35,
   "id": "baeef5dd",
   "metadata": {},
   "outputs": [
    {
     "name": "stdout",
     "output_type": "stream",
     "text": [
      "The number (16) is a perfect square.\n",
      "The number (8) is not a perfect square.\n"
     ]
    }
   ],
   "source": [
    "# function definition\n",
    "def isperfectSquare(num:int)->None:\n",
    "    flag = False\n",
    "    if num < 0:\n",
    "        return \"The number is not a perfect square.\"\n",
    "\n",
    "    # use the property: square root of a perfect square is an integer\n",
    "    sqrt = int(num ** 0.5)\n",
    "    flag = sqrt * sqrt == num\n",
    "    if flag:\n",
    "        return f\"The number ({num}) is a perfect square.\"\n",
    "    else:\n",
    "        return f\"The number ({num}) is not a perfect square.\"\n",
    "    \n",
    "# driver code\n",
    "num = 16\n",
    "result = isperfectSquare(num)\n",
    "print(result)\n",
    "\n",
    "# driver code\n",
    "num = 8\n",
    "result = isperfectSquare(num)\n",
    "print(result)"
   ]
  },
  {
   "cell_type": "markdown",
   "id": "22592765",
   "metadata": {},
   "source": [
    "36. Implement a function to calculate the product of all elements in a list."
   ]
  },
  {
   "cell_type": "code",
   "execution_count": 36,
   "id": "dd808960",
   "metadata": {},
   "outputs": [
    {
     "name": "stdout",
     "output_type": "stream",
     "text": [
      "The product of all elements in a list is 1008.\n"
     ]
    }
   ],
   "source": [
    "# function definition\n",
    "def product(lst:list)->int:\n",
    "    pro = 1\n",
    "    for num in lst:\n",
    "        pro *= num\n",
    "    return pro\n",
    "\n",
    "\n",
    "# driver code \n",
    "lst = [2,9,8,7]\n",
    "result = product(lst)\n",
    "print(f\"The product of all elements in a list is {result}.\")"
   ]
  },
  {
   "cell_type": "markdown",
   "id": "67480c0a",
   "metadata": {},
   "source": [
    "37. Write a Python program to reverse the order of words in a sentence while preserving the word order."
   ]
  },
  {
   "cell_type": "code",
   "execution_count": 37,
   "id": "3e23eb0c",
   "metadata": {},
   "outputs": [
    {
     "name": "stdout",
     "output_type": "stream",
     "text": [
      "disciplines various incorporates science Data\n"
     ]
    }
   ],
   "source": [
    "# function definition\n",
    "def reverseOrder(sentence:str)->str:\n",
    "    # create a list of word of given sentence\n",
    "    word_list = sentence.split()\n",
    "    \n",
    "    # reversed the list\n",
    "    reverse = word_list[::-1]\n",
    "    \n",
    "    # convert list into string\n",
    "    reversed_sentence = \" \".join(reverse)\n",
    "    \n",
    "    # remove unneccesary whitespaces \n",
    "    reversed_sentence = reversed_sentence.replace(\"  \",\" \")\n",
    "    \n",
    "    return reversed_sentence\n",
    "\n",
    "# driver code\n",
    "sentence = \"Data science incorporates various disciplines\"\n",
    "result = reverseOrder(sentence)\n",
    "print(result)\n",
    "    "
   ]
  },
  {
   "cell_type": "markdown",
   "id": "7157645e",
   "metadata": {},
   "source": [
    "38. Implement a function to find the missing number in a given list of consecutive numbers."
   ]
  },
  {
   "cell_type": "code",
   "execution_count": 38,
   "id": "267ba1ca",
   "metadata": {},
   "outputs": [
    {
     "name": "stdout",
     "output_type": "stream",
     "text": [
      "Missing number: 3\n"
     ]
    }
   ],
   "source": [
    "# function definition\n",
    "def findMissingNumber(lst:list)->int:\n",
    "    n = len(lst) + 1\n",
    "    expected_sum = n * (n + 1) // 2\n",
    "    actual_sum = sum(lst)\n",
    "    missing_number = expected_sum - actual_sum\n",
    "    return missing_number\n",
    "\n",
    "# driver code\n",
    "sequence = [1, 2, 4, 5, 6]\n",
    "result = findMissingNumber(sequence)\n",
    "print(\"Missing number:\", result)\n"
   ]
  },
  {
   "cell_type": "markdown",
   "id": "449e25da",
   "metadata": {},
   "source": [
    "39. Write a program to find the sum of digits of a given number."
   ]
  },
  {
   "cell_type": "code",
   "execution_count": 39,
   "id": "869d7502",
   "metadata": {},
   "outputs": [
    {
     "name": "stdout",
     "output_type": "stream",
     "text": [
      "Sum of digits: 6\n"
     ]
    }
   ],
   "source": [
    "# function definition\n",
    "def sumOfdigit(num:int)->int:\n",
    "    total_sum = 0\n",
    "    while num > 0:\n",
    "        digit = num % 10\n",
    "        total_sum += digit\n",
    "        num //= 10\n",
    "\n",
    "    return total_sum\n",
    "\n",
    "# driver code\n",
    "num = 123\n",
    "result = sumOfdigit(num)\n",
    "print(\"Sum of digits:\", result)    "
   ]
  },
  {
   "cell_type": "markdown",
   "id": "7d1faec6",
   "metadata": {},
   "source": [
    "40. Implement a function to check if a given string is a valid palindrome considering case sensitivity."
   ]
  },
  {
   "cell_type": "code",
   "execution_count": 40,
   "id": "49e1ed2f",
   "metadata": {},
   "outputs": [
    {
     "name": "stdout",
     "output_type": "stream",
     "text": [
      "Naman is not palindrome\n",
      "naman is palindrome \n"
     ]
    }
   ],
   "source": [
    "# function definition\n",
    "def ispalindrome(string:str)->None:\n",
    "    \n",
    "    s = string.replace(\" \", \"\")\n",
    "    \n",
    "    if s == s[::-1]:\n",
    "        return f\"{string} is palindrome \"\n",
    "    else:\n",
    "        return f\"{string} is not palindrome\"\n",
    "\n",
    "# driver code\n",
    "string1 = \"Naman\"\n",
    "string2 = \"naman\"\n",
    "result1 = ispalindrome(string1)\n",
    "result2 = ispalindrome(string2)\n",
    "print(result1)\n",
    "print(result2)"
   ]
  },
  {
   "cell_type": "markdown",
   "id": "12e45108",
   "metadata": {},
   "source": [
    "41. Write a Python program to find the smallest missing positive integer in a list."
   ]
  },
  {
   "cell_type": "code",
   "execution_count": 41,
   "id": "ed2a3ddd",
   "metadata": {},
   "outputs": [
    {
     "name": "stdout",
     "output_type": "stream",
     "text": [
      "Smallest missing positive integer: 6\n"
     ]
    }
   ],
   "source": [
    "# function definition\n",
    "def findSmallestMissingPositive(lst:int)->int:\n",
    "    n = len(lst)\n",
    "    \n",
    "    # move all positive integers to their correct indices\n",
    "    for i in range(n):\n",
    "        while 1 <= lst[i] <= n and lst[lst[i] - 1] != lst[i]:\n",
    "            lst[lst[i] - 1], lst[i] = lst[i], lst[lst[i] - 1]\n",
    "    \n",
    "    # find the smallest missing positive integer\n",
    "    for i in range(n):\n",
    "        if lst[i] != i + 1:\n",
    "            return i + 1\n",
    "    \n",
    "    # if no missing positive integer found, return n + 1\n",
    "    return n + 1\n",
    "\n",
    "# driver code\n",
    "lst = [3, 1, -1, 4, 5, 2, 7, 8, 10]\n",
    "result = findSmallestMissingPositive(lst)\n",
    "print(\"Smallest missing positive integer:\", result)"
   ]
  },
  {
   "cell_type": "markdown",
   "id": "a4aa0086",
   "metadata": {},
   "source": [
    "42. Implement a function to find the longest palindrome substring in a given string."
   ]
  },
  {
   "cell_type": "code",
   "execution_count": 42,
   "id": "575936e1",
   "metadata": {},
   "outputs": [
    {
     "name": "stdout",
     "output_type": "stream",
     "text": [
      "Longest palindrome substring: a racecar a\n"
     ]
    }
   ],
   "source": [
    "# function definition\n",
    "def longestPalindromeSubstring(string:str)->str:\n",
    "    n = len(string)\n",
    "    if n < 2:\n",
    "        return string\n",
    "\n",
    "    # initialize variables to track the longest palindrome substring\n",
    "    start = 0\n",
    "    max_length = 1\n",
    "\n",
    "    # helper function to expand around the center and find palindromes\n",
    "    def expand_around_center(left, right):\n",
    "        nonlocal start, max_length\n",
    "        while left >= 0 and right < n and string[left] == string[right]:\n",
    "            left -= 1\n",
    "            right += 1\n",
    "        length = right - left - 1\n",
    "        if length > max_length:\n",
    "            start = left + 1\n",
    "            max_length = length\n",
    "\n",
    "    # iterate through each character as the center of a potential palindrome\n",
    "    for i in range(n):\n",
    "        expand_around_center(i, i)  \n",
    "        expand_around_center(i, i + 1)  \n",
    "\n",
    "    return string[start:start + max_length]\n",
    "\n",
    "# driver code\n",
    "string = \"A woman is driving a racecar and sees radar\"\n",
    "result = longestPalindromeSubstring(string)\n",
    "print(\"Longest palindrome substring:\", result)\n"
   ]
  },
  {
   "cell_type": "markdown",
   "id": "d64e496c",
   "metadata": {},
   "source": [
    "43. Write a program to find the number of occurrences of a given element in a list."
   ]
  },
  {
   "cell_type": "code",
   "execution_count": 43,
   "id": "07eb1fef",
   "metadata": {},
   "outputs": [
    {
     "name": "stdout",
     "output_type": "stream",
     "text": [
      "{1: 1, 2: 2, 3: 2, 4: 2, 6: 1, 5: 1, 9: 1}\n"
     ]
    }
   ],
   "source": [
    "# function definition\n",
    "def count_occurrence(lst:list) -> dict:\n",
    "    occurrence = {}\n",
    "    for element in lst:\n",
    "        if element in occurrence:\n",
    "            occurrence[element] += 1\n",
    "        else:\n",
    "            occurrence[element] = 1\n",
    "            \n",
    "    return occurrence\n",
    "\n",
    "# driver code\n",
    "lst = [1, 2, 3, 2, 3, 4, 6, 4, 5, 9] \n",
    "result = count_occurrence(lst)\n",
    "print(result)"
   ]
  },
  {
   "cell_type": "markdown",
   "id": "4a61765d",
   "metadata": {},
   "source": [
    "44. Implement a function to check if a given number is a perfect number."
   ]
  },
  {
   "cell_type": "code",
   "execution_count": 44,
   "id": "437c022f",
   "metadata": {},
   "outputs": [
    {
     "name": "stdout",
     "output_type": "stream",
     "text": [
      "The number (6) is a perfect number.\n"
     ]
    }
   ],
   "source": [
    "# function definition\n",
    "def isperfectNumber(num:int)->None:\n",
    "    flag = False\n",
    "    if num <= 0:\n",
    "        return False\n",
    "\n",
    "    divisor_sum = 0\n",
    "    for i in range(1, num):\n",
    "        if num % i == 0:\n",
    "            divisor_sum += i\n",
    "    \n",
    "    flag = divisor_sum == num\n",
    "    \n",
    "    if flag:\n",
    "        return f\"The number ({num}) is a perfect number.\"\n",
    "    else:\n",
    "        return f\"The number ({num}) is not a perfect number.\"\n",
    "\n",
    "# driver code\n",
    "num = 6\n",
    "result = isperfectNumber(num)\n",
    "print(result)"
   ]
  },
  {
   "cell_type": "markdown",
   "id": "04e9d1a7",
   "metadata": {},
   "source": [
    "45. Write a Python program to remove all duplicates from a string."
   ]
  },
  {
   "cell_type": "code",
   "execution_count": 45,
   "id": "96cb2f8d",
   "metadata": {},
   "outputs": [
    {
     "name": "stdout",
     "output_type": "stream",
     "text": [
      "Helo wrd\n"
     ]
    }
   ],
   "source": [
    "# function definition\n",
    "def removeDuplicate(string:str)->str:\n",
    "    unique_chars = set()\n",
    "\n",
    "    # create a new string with unique characters\n",
    "    new_string = \"\"\n",
    "    for char in string:\n",
    "        if char not in unique_chars:\n",
    "            new_string += char\n",
    "            unique_chars.add(char)\n",
    "\n",
    "    return new_string\n",
    "    \n",
    "# driver code\n",
    "string = \"Hello world\"\n",
    "result = removeDuplicate(string)\n",
    "print(result)"
   ]
  },
  {
   "cell_type": "markdown",
   "id": "e04988ce",
   "metadata": {},
   "source": [
    "46. Implement a function to find the first missing positive"
   ]
  },
  {
   "cell_type": "code",
   "execution_count": 46,
   "id": "31ae88c4",
   "metadata": {},
   "outputs": [
    {
     "name": "stdout",
     "output_type": "stream",
     "text": [
      "First missing positive integer: 2\n"
     ]
    }
   ],
   "source": [
    "# function definition\n",
    "def findFirstMissingPositive(lst:list)->int:\n",
    "    n = len(lst)\n",
    "\n",
    "    # move all positive integers to their correct indices\n",
    "    for i in range(n):\n",
    "        while 1 <= lst[i] <= n and lst[lst[i] - 1] != lst[i]:\n",
    "            lst[lst[i] - 1], lst[i] = lst[i], lst[lst[i] - 1]\n",
    "\n",
    "    # find the first missing positive integer\n",
    "    for i in range(n):\n",
    "        if lst[i] != i + 1:\n",
    "            return i + 1\n",
    "\n",
    "    # if no missing positive integer found, return n + 1\n",
    "    return n + 1\n",
    "\n",
    "# driver code\n",
    "lst = [3, 4, -1, 1]\n",
    "result = findFirstMissingPositive(lst)\n",
    "print(\"First missing positive integer:\", result)\n"
   ]
  }
 ],
 "metadata": {
  "kernelspec": {
   "display_name": "Python 3 (ipykernel)",
   "language": "python",
   "name": "python3"
  },
  "language_info": {
   "codemirror_mode": {
    "name": "ipython",
    "version": 3
   },
   "file_extension": ".py",
   "mimetype": "text/x-python",
   "name": "python",
   "nbconvert_exporter": "python",
   "pygments_lexer": "ipython3",
   "version": "3.9.16"
  }
 },
 "nbformat": 4,
 "nbformat_minor": 5
}
