{
 "cells": [
  {
   "cell_type": "code",
   "execution_count": 1,
   "id": "79576adb",
   "metadata": {},
   "outputs": [],
   "source": [
    "import statistics\n",
    "import numpy as np"
   ]
  },
  {
   "cell_type": "markdown",
   "id": "95cce7d7",
   "metadata": {},
   "source": [
    "1. Scenario: A company wants to analyze the sales performance of its products in different regions. They have collected the following data:\n",
    "   Region A: [10, 15, 12, 8, 14]\n",
    "   Region B: [18, 20, 16, 22, 25]\n",
    "   Calculate the mean sales for each region."
   ]
  },
  {
   "cell_type": "code",
   "execution_count": 2,
   "id": "5fc40ccd",
   "metadata": {},
   "outputs": [
    {
     "name": "stdout",
     "output_type": "stream",
     "text": [
      "Mean of Region A : 11.8\n",
      "Mean of Region B : 20.2\n"
     ]
    }
   ],
   "source": [
    "Region_A = [10, 15, 12, 8, 14] \n",
    "Region_B = [18, 20, 16, 22, 25] \n",
    "result1 = statistics.mean(Region_A)\n",
    "print(\"Mean of Region A :\", result1)\n",
    "result2 = statistics.mean(Region_B)\n",
    "print(\"Mean of Region B :\", result2)"
   ]
  },
  {
   "cell_type": "markdown",
   "id": "484e4b11",
   "metadata": {},
   "source": [
    "2. Scenario: A survey is conducted to measure customer satisfaction on a scale of 1 to 5. The data collected is as follows:\n",
    "   [4, 5, 2, 3, 5, 4, 3, 2, 4, 5]\n",
    "   Calculate the mode of the survey responses."
   ]
  },
  {
   "cell_type": "code",
   "execution_count": 3,
   "id": "23704d7d",
   "metadata": {},
   "outputs": [
    {
     "name": "stdout",
     "output_type": "stream",
     "text": [
      "The mode of the survey responses : 4\n"
     ]
    }
   ],
   "source": [
    "data = [4, 5, 2, 3, 5, 4, 3, 2, 4, 5] \n",
    "result = statistics.mode(data)\n",
    "print(\"The mode of the survey responses :\",result)"
   ]
  },
  {
   "cell_type": "markdown",
   "id": "1d14a993",
   "metadata": {},
   "source": [
    "\n",
    "3. Scenario: A company wants to compare the salaries of two departments. The salary data for Department A and Department B are as follows:\n",
    "   Department A: [5000, 6000, 5500, 7000]\n",
    "   Department B: [4500, 5500, 5800, 6000, 5200]\n",
    "   Calculate the median salary for each department."
   ]
  },
  {
   "cell_type": "code",
   "execution_count": 4,
   "id": "1c35df13",
   "metadata": {},
   "outputs": [
    {
     "name": "stdout",
     "output_type": "stream",
     "text": [
      "The median salary for each department A : 5750.0\n",
      "The median salary for each department B : 5500\n"
     ]
    }
   ],
   "source": [
    "Department_A = [5000, 6000, 5500, 7000] \n",
    "Department_B = [4500, 5500, 5800, 6000, 5200] \n",
    "\n",
    "result1 = statistics.median(Department_A)\n",
    "print(\"The median salary for each department A :\",result1)\n",
    "result2 = statistics.median(Department_B)\n",
    "print(\"The median salary for each department B :\",result2)"
   ]
  },
  {
   "cell_type": "markdown",
   "id": "38a96f3b",
   "metadata": {},
   "source": [
    "\n",
    "4. Scenario: A data analyst wants to determine the variability in the daily stock prices of a company. The data collected is as follows:\n",
    "   [25.5, 24.8, 26.1, 25.3, 24.9]\n",
    "   Calculate the range of the stock prices."
   ]
  },
  {
   "cell_type": "code",
   "execution_count": 5,
   "id": "9c75dfed",
   "metadata": {},
   "outputs": [
    {
     "name": "stdout",
     "output_type": "stream",
     "text": [
      "The range of the stock prices : 1.3000000000000007\n"
     ]
    }
   ],
   "source": [
    "data = [25.5, 24.8, 26.1, 25.3, 24.9]\n",
    "result = max(data)-min(data)\n",
    "print(\"The range of the stock prices :\",result)"
   ]
  },
  {
   "cell_type": "markdown",
   "id": "69a20fff",
   "metadata": {},
   "source": [
    "5. Scenario: A study is conducted to compare the performance of two different teaching methods. The test scores of the students in each group are as follows:\n",
    "   Group A: [85, 90, 92, 88, 91]\n",
    "   Group B: [82, 88, 90, 86, 87]\n",
    "   Perform a t-test to determine if there is a significant difference in the mean scores between the two groups."
   ]
  },
  {
   "cell_type": "code",
   "execution_count": 6,
   "id": "d5c95dac",
   "metadata": {},
   "outputs": [
    {
     "name": "stdout",
     "output_type": "stream",
     "text": [
      "T-Statistic: 1.4312528946642733\n",
      "P-Value: 0.19023970239078333\n",
      "Fail to reject the null hypothesis\n"
     ]
    }
   ],
   "source": [
    "import scipy.stats as stats\n",
    "Group_A = [85, 90, 92, 88, 91] \n",
    "Group_B = [82, 88, 90, 86, 87]\n",
    "significance_level = 0.05\n",
    "\n",
    "# States Hypotshesis\n",
    "#Null_hypothesis - There is no significant difference in the mean scores between the two groups.\n",
    "#Alternate_hypothesis - There is difference in mean scores between the two groups.\n",
    "\n",
    "# Decision Boundary\n",
    "# Two tail test - t- value -2.776 to 2.776\n",
    "t_value =  2.776 # from t_table\n",
    "\n",
    "# perform t-test \n",
    "t_statistic, p_value = stats.ttest_ind(Group_A, Group_B)\n",
    "\n",
    "# print results\n",
    "print(\"T-Statistic:\", t_statistic)\n",
    "print(\"P-Value:\", p_value)\n",
    "\n",
    "if p_value < significance_level and t_statistic < t_value :\n",
    "    print(\"Reject the null hypothesis\")\n",
    "else:\n",
    "    print(\"Fail to reject the null hypothesis\")"
   ]
  },
  {
   "cell_type": "markdown",
   "id": "28d429a3",
   "metadata": {},
   "source": [
    "### Conclusion - There is no significant difference in the mean scores between the two groups."
   ]
  },
  {
   "cell_type": "markdown",
   "id": "f42e460f",
   "metadata": {},
   "source": [
    "6. Scenario: A company wants to analyze the relationship between advertising expenditure and sales. The data collected is as follows:\n",
    "   Advertising Expenditure (in thousands): [10, 15, 12, 8, 14]\n",
    "   Sales (in thousands): [25, 30, 28, 20, 26]\n",
    "   Calculate the correlation coefficient between advertising expenditure and sales."
   ]
  },
  {
   "cell_type": "code",
   "execution_count": 7,
   "id": "7b3c41e5",
   "metadata": {},
   "outputs": [
    {
     "name": "stdout",
     "output_type": "stream",
     "text": [
      "The correlation coefficient between advertising expenditure and sales : 0.8757511375750133\n"
     ]
    }
   ],
   "source": [
    "import numpy as np\n",
    "Advertising_Expenditure  = [10, 15, 12, 8, 14] # (in thousands)\n",
    "Sales = [25, 30, 28, 20, 26] #(in thousands)\n",
    "\n",
    "# Calculate correlation coefficient\n",
    "correlation_matrix = np.corrcoef(Advertising_Expenditure, Sales)\n",
    "correlation = correlation_matrix[0, 1]\n",
    "print(\"The correlation coefficient between advertising expenditure and sales :\",correlation)"
   ]
  },
  {
   "cell_type": "markdown",
   "id": "c574afaf",
   "metadata": {},
   "source": [
    "7. Scenario: A survey is conducted to measure the heights of a group of people. The data collected is as follows:\n",
    "   [160, 170, 165, 155, 175, 180, 170]\n",
    "   Calculate the standard deviation of the heights."
   ]
  },
  {
   "cell_type": "code",
   "execution_count": 8,
   "id": "5143c8a5",
   "metadata": {},
   "outputs": [
    {
     "name": "stdout",
     "output_type": "stream",
     "text": [
      "The standard deviation of the heights : 7.953949089757174\n"
     ]
    }
   ],
   "source": [
    "data = [160, 170, 165, 155, 175, 180, 170]\n",
    "standard_deviation = np.std(data)\n",
    "print(\"The standard deviation of the heights :\",standard_deviation)"
   ]
  },
  {
   "cell_type": "markdown",
   "id": "52c9449b",
   "metadata": {},
   "source": [
    "8. Scenario: A company wants to analyze the relationship between employee tenure and job satisfaction. The data collected is as follows:\n",
    "   Employee Tenure (in years): [2, 3, 5, 4, 6, 2, 4]\n",
    "   Job Satisfaction (on a scale of 1 to 10): [7, 8, 6, 9, 5, 7, 6]\n",
    "   Perform a linear regression analysis to predict job satisfaction based on employee tenure."
   ]
  },
  {
   "cell_type": "code",
   "execution_count": 9,
   "id": "497f899f",
   "metadata": {},
   "outputs": [
    {
     "name": "stdout",
     "output_type": "stream",
     "text": [
      "Regression Coefficients:\n",
      "[ 8.59574468 -0.46808511]\n",
      "\n",
      "Regression Summary:\n",
      "                            OLS Regression Results                            \n",
      "==============================================================================\n",
      "Dep. Variable:                      y   R-squared:                       0.271\n",
      "Model:                            OLS   Adj. R-squared:                  0.125\n",
      "Method:                 Least Squares   F-statistic:                     1.859\n",
      "Date:                Mon, 10 Jul 2023   Prob (F-statistic):              0.231\n",
      "Time:                        20:05:14   Log-Likelihood:                -10.362\n",
      "No. Observations:                   7   AIC:                             24.72\n",
      "Df Residuals:                       5   BIC:                             24.62\n",
      "Df Model:                           1                                         \n",
      "Covariance Type:            nonrobust                                         \n",
      "==============================================================================\n",
      "                 coef    std err          t      P>|t|      [0.025      0.975]\n",
      "------------------------------------------------------------------------------\n",
      "const          8.5957      1.361      6.316      0.001       5.097      12.094\n",
      "x1            -0.4681      0.343     -1.363      0.231      -1.351       0.414\n",
      "==============================================================================\n",
      "Omnibus:                          nan   Durbin-Watson:                   2.414\n",
      "Prob(Omnibus):                    nan   Jarque-Bera (JB):                1.954\n",
      "Skew:                           1.292   Prob(JB):                        0.376\n",
      "Kurtosis:                       3.166   Cond. No.                         12.0\n",
      "==============================================================================\n",
      "\n",
      "Notes:\n",
      "[1] Standard Errors assume that the covariance matrix of the errors is correctly specified.\n",
      "Predicted Satisfaction: [8.127659574468083, 7.191489361702124, 6.723404255319144, 3.914893617021267]\n"
     ]
    },
    {
     "name": "stderr",
     "output_type": "stream",
     "text": [
      "C:\\Users\\RACHIT\\anaconda3\\lib\\site-packages\\statsmodels\\stats\\stattools.py:74: ValueWarning: omni_normtest is not valid with less than 8 observations; 7 samples were given.\n",
      "  warn(\"omni_normtest is not valid with less than 8 observations; %i \"\n"
     ]
    }
   ],
   "source": [
    "import statsmodels.api as sm\n",
    "import numpy as np\n",
    "\n",
    "Employee_Tenure = np.array([2, 3, 5, 4, 6, 2, 4]).reshape((-1, 1))  # (in years)\n",
    "Job_Satisfaction = [7, 8, 6, 9, 5, 7, 6]  # (on a scale of 1 to 10)\n",
    "\n",
    "# Add a constant term to the X data\n",
    "X = sm.add_constant(Employee_Tenure)\n",
    "\n",
    "# Fit the linear regression model\n",
    "model = sm.OLS(Job_Satisfaction, X)\n",
    "results = model.fit()\n",
    "\n",
    "# Print the regression coefficients and summary\n",
    "print(\"Regression Coefficients:\")\n",
    "print(results.params)\n",
    "print(\"\\nRegression Summary:\")\n",
    "print(results.summary())\n",
    "\n",
    "# Predict job satisfaction for new tenure values\n",
    "new_tenure = np.array([[1], [3], [4], [10]])\n",
    "new_X = sm.add_constant(new_tenure)\n",
    "predicted_satisfaction = results.predict(new_X)\n",
    "\n",
    "# To make values lies between 0 to 10 \n",
    "scale = []\n",
    "for i in predicted_satisfaction:\n",
    "    if i < 0 :\n",
    "        scale.append(0)\n",
    "    elif i > 10 :\n",
    "        scale.append(10)\n",
    "    else:\n",
    "        scale.append(i)\n",
    "\n",
    "# Print the predicted job satisfaction\n",
    "print(\"Predicted Satisfaction:\", scale)\n"
   ]
  },
  {
   "cell_type": "markdown",
   "id": "aaec05d5",
   "metadata": {},
   "source": [
    "9. Scenario: A study is conducted to compare the effectiveness of two different medications. The recovery times of the patients in each group are as follows:\n",
    "   Medication A: [10, 12, 14, 11, 13]\n",
    "   Medication B: [15, 17, 16, 14, 18]\n",
    "   Perform an analysis of variance (ANOVA) to determine if there is a significant difference in the mean recovery times between the two medications.\n"
   ]
  },
  {
   "cell_type": "code",
   "execution_count": 10,
   "id": "f16d3f4e",
   "metadata": {},
   "outputs": [
    {
     "name": "stdout",
     "output_type": "stream",
     "text": [
      "F-Statistic: 16.0\n",
      "P-Value: 0.003949772803445326\n",
      "Reject the null hypothesis\n"
     ]
    }
   ],
   "source": [
    "import scipy.stats as stats\n",
    "significance_level = 0.05\n",
    "Medication_A = [10, 12, 14, 11, 13]\n",
    "Medication_B = [15, 17, 16, 14, 18]\n",
    "\n",
    "# 95% of confidence level  \n",
    "significance_level = 0.05\n",
    "\n",
    "# States Hypotshesis\n",
    "#Null_hypothesis - There is no significant difference in the mean recovery times between the two medications.\n",
    "#Alternate_hypothesis - There is a significant difference in the mean recovery times between the two medications.\n",
    "\n",
    "# Perform ANOVA\n",
    "f_statistic, p_value = stats.f_oneway(Medication_A, Medication_B)\n",
    "\n",
    "# Print results\n",
    "print(\"F-Statistic:\", f_statistic)\n",
    "print(\"P-Value:\", p_value)\n",
    "\n",
    "if p_value < significance_level:\n",
    "    print(\"Reject the null hypothesis\")\n",
    "else:\n",
    "    print(\"Fail to reject the null hypothesis\")"
   ]
  },
  {
   "cell_type": "markdown",
   "id": "d36d04d6",
   "metadata": {},
   "source": [
    "### Conclusion -  There is a significant difference in the mean recovery times between the two medications."
   ]
  },
  {
   "cell_type": "markdown",
   "id": "902d0780",
   "metadata": {},
   "source": [
    "10. Scenario: A company wants to analyze customer feedback ratings on a scale of 1 to 10. The data collected is\n",
    "as follows:\n",
    "    [8, 9, 7, 6, 8, 10, 9, 8, 7, 8]\n",
    "    Calculate the 75th percentile of the feedback ratings.\n"
   ]
  },
  {
   "cell_type": "code",
   "execution_count": 11,
   "id": "1599620f",
   "metadata": {},
   "outputs": [
    {
     "name": "stdout",
     "output_type": "stream",
     "text": [
      "The 75th percentile of the feedback ratings : 8.75\n"
     ]
    }
   ],
   "source": [
    "rating = [8, 9, 7, 6, 8, 10, 9, 8, 7, 8]\n",
    "p75 = np.percentile(rating, 75)\n",
    "print(\"The 75th percentile of the feedback ratings :\",p75)"
   ]
  },
  {
   "cell_type": "markdown",
   "id": "d46d5dcf",
   "metadata": {},
   "source": [
    "11. Scenario: A quality control department wants to test the weight consistency of a product. The weights of a sample of products are as follows:\n",
    "    [10.2, 9.8, 10.0, 10.5, 10.3, 10.1]\n",
    "    Perform a hypothesis test to determine if the mean weight differs significantly from 10 grams."
   ]
  },
  {
   "cell_type": "code",
   "execution_count": 12,
   "id": "7650d386",
   "metadata": {},
   "outputs": [
    {
     "name": "stdout",
     "output_type": "stream",
     "text": [
      "T-Statistic: 1.5126584522688367\n",
      "P-Value: 0.19077595151110102\n",
      "Fail to reject the null hypothesis\n"
     ]
    }
   ],
   "source": [
    "import scipy.stats as stats\n",
    "\n",
    "weights = [10.2, 9.8, 10.0, 10.5, 10.3, 10.1]\n",
    "population_mean = 10.0\n",
    "\n",
    "# States Hypotshesis\n",
    "#Null_hypothesis - There is no significantly weight differs from 10 grams.\n",
    "#Alternate_hypothesis - There is a significantly weight differs from 10 grams\n",
    "\n",
    "# perform one-sample t-test\n",
    "t_statistic, p_value = stats.ttest_1samp(weights, population_mean)\n",
    "\n",
    "# print results\n",
    "print(\"T-Statistic:\", t_statistic)\n",
    "print(\"P-Value:\", p_value)\n",
    "\n",
    "if p_value < significance_level:\n",
    "    print(\"Reject the null hypothesis\")\n",
    "else:\n",
    "    print(\"Fail to reject the null hypothesis\")"
   ]
  },
  {
   "cell_type": "markdown",
   "id": "2e3d1876",
   "metadata": {},
   "source": [
    "### Conclusion - There is no significantly weight differs from 10 grams "
   ]
  },
  {
   "cell_type": "markdown",
   "id": "0f081365",
   "metadata": {},
   "source": [
    "12. Scenario: A company wants to analyze the click-through rates of two different website designs. The number of clicks for each design is as follows:\n",
    "    Design A: [100, 120, 110, 90, 95]\n",
    "    Design B: [80, 85, 90, 95, 100]\n",
    "    Perform a chi-square test to determine if there is a significant difference in the click-through rates between the two designs.\n"
   ]
  },
  {
   "cell_type": "code",
   "execution_count": 13,
   "id": "89117349",
   "metadata": {},
   "outputs": [
    {
     "name": "stdout",
     "output_type": "stream",
     "text": [
      "Chi-Square Statistic: 6.110658166925435\n",
      "P-Value: 0.19103526314060293\n",
      "Fail to reject the null hypothesis\n"
     ]
    }
   ],
   "source": [
    "import scipy.stats as stats\n",
    "import numpy as np\n",
    "\n",
    "design_a = np.array([100, 120, 110, 90, 95])\n",
    "design_b = np.array([80, 85, 90, 95, 100])\n",
    "\n",
    "# States Hypotshesis\n",
    "#Null_hypothesis - There is no significant difference in the click-through rates between the two designs.\n",
    "#Alternate_hypothesis - There is a significant difference in the click-through rates between the two designs.\n",
    "\n",
    "# Perform chi-square test\n",
    "chi2_statistic, p_value, _, _ = stats.chi2_contingency([design_a, design_b])\n",
    "\n",
    "# Print results\n",
    "print(\"Chi-Square Statistic:\", chi2_statistic)\n",
    "print(\"P-Value:\", p_value)\n",
    "\n",
    "if p_value < significance_level:\n",
    "    print(\"Reject the null hypothesis\")\n",
    "else:\n",
    "    print(\"Fail to reject the null hypothesis\")"
   ]
  },
  {
   "cell_type": "markdown",
   "id": "1f679e84",
   "metadata": {},
   "source": [
    "### Conclusion - There is no significant difference in the click-through rates between the two designs."
   ]
  },
  {
   "cell_type": "markdown",
   "id": "cadee441",
   "metadata": {},
   "source": [
    "13. Scenario: A survey is conducted to measure customer satisfaction with a product on a scale of 1 to 10. The data collected is as follows:\n",
    "    [7, 9, 6, 8, 10, 7, 8, 9, 7, 8]\n",
    "    Calculate the 95% confidence interval for the population mean satisfaction score.\n"
   ]
  },
  {
   "cell_type": "code",
   "execution_count": 14,
   "id": "b16da5d6",
   "metadata": {},
   "outputs": [
    {
     "name": "stdout",
     "output_type": "stream",
     "text": [
      "Confidence Interval: (7.043561120599888, 8.756438879400113)\n"
     ]
    }
   ],
   "source": [
    "import numpy as np\n",
    "import scipy.stats as stats\n",
    "\n",
    "data = [7, 9, 6, 8, 10, 7, 8, 9, 7, 8]\n",
    "confidence_level = 0.95\n",
    "\n",
    "# Calculate sample mean and standard error\n",
    "sample_mean = np.mean(data)\n",
    "sample_std = np.std(data, ddof=1)\n",
    "standard_error = sample_std / np.sqrt(len(data))\n",
    "\n",
    "# Calculate the margin of error\n",
    "margin_of_error = stats.t.ppf((1 + confidence_level) / 2, df=len(data) - 1) * standard_error\n",
    "\n",
    "# Calculate the confidence interval\n",
    "confidence_interval = (sample_mean - margin_of_error, sample_mean + margin_of_error)\n",
    "\n",
    "# Print the confidence interval\n",
    "print(\"Confidence Interval:\", confidence_interval)\n"
   ]
  },
  {
   "cell_type": "markdown",
   "id": "59758be8",
   "metadata": {},
   "source": [
    "14. Scenario: A company wants to analyze the effect of temperature on product performance. The data collected is as follows:\n",
    "    Temperature (in degrees Celsius): [20, 22, 23, 19, 21]\n",
    "    Performance (on a scale of 1 to 10): [8, 7, 9, 6, 8]\n",
    "    Perform a simple linear regression to predict performance based on temperature."
   ]
  },
  {
   "cell_type": "code",
   "execution_count": 15,
   "id": "9e00c640",
   "metadata": {},
   "outputs": [
    {
     "name": "stdout",
     "output_type": "stream",
     "text": [
      "Regression Coefficients:\n",
      "[-2.9  0.5]\n",
      "\n",
      "Regression Summary:\n",
      "                            OLS Regression Results                            \n",
      "==============================================================================\n",
      "Dep. Variable:                      y   R-squared:                       0.481\n",
      "Model:                            OLS   Adj. R-squared:                  0.308\n",
      "Method:                 Least Squares   F-statistic:                     2.778\n",
      "Date:                Mon, 10 Jul 2023   Prob (F-statistic):              0.194\n",
      "Time:                        20:05:14   Log-Likelihood:                -5.5542\n",
      "No. Observations:                   5   AIC:                             15.11\n",
      "Df Residuals:                       3   BIC:                             14.33\n",
      "Df Model:                           1                                         \n",
      "Covariance Type:            nonrobust                                         \n",
      "==============================================================================\n",
      "                 coef    std err          t      P>|t|      [0.025      0.975]\n",
      "------------------------------------------------------------------------------\n",
      "const         -2.9000      6.314     -0.459      0.677     -22.995      17.195\n",
      "x1             0.5000      0.300      1.667      0.194      -0.455       1.455\n",
      "==============================================================================\n",
      "Omnibus:                          nan   Durbin-Watson:                   3.056\n",
      "Prob(Omnibus):                    nan   Jarque-Bera (JB):                0.522\n",
      "Skew:                          -0.348   Prob(JB):                        0.770\n",
      "Kurtosis:                       1.578   Cond. No.                         314.\n",
      "==============================================================================\n",
      "\n",
      "Notes:\n",
      "[1] Standard Errors assume that the covariance matrix of the errors is correctly specified.\n",
      "Predicted Satisfaction: [13.6 15.1 17.1 -2.9 -0.4  4.6]\n"
     ]
    },
    {
     "name": "stderr",
     "output_type": "stream",
     "text": [
      "C:\\Users\\RACHIT\\anaconda3\\lib\\site-packages\\statsmodels\\stats\\stattools.py:74: ValueWarning: omni_normtest is not valid with less than 8 observations; 5 samples were given.\n",
      "  warn(\"omni_normtest is not valid with less than 8 observations; %i \"\n"
     ]
    }
   ],
   "source": [
    "Temperature = [20, 22, 23, 19, 21] # (in degrees Celsius)\n",
    "Performance = [8, 7, 9, 6, 8] # (on a scale of 1 to 10)\n",
    "\n",
    "\n",
    "# Add a constant term to the X data\n",
    "X = sm.add_constant(Temperature)\n",
    "\n",
    "# Fit the linear regression model\n",
    "model = sm.OLS(Performance, X)\n",
    "results = model.fit()\n",
    "\n",
    "# Print the regression coefficients and summary\n",
    "print(\"Regression Coefficients:\")\n",
    "print(results.params)\n",
    "print(\"\\nRegression Summary:\")\n",
    "print(results.summary())\n",
    "\n",
    "# Predict job satisfaction for new tenure values\n",
    "new_tenure = np.array([[33], [36], [40], [0], [5], [15]])\n",
    "new_X = sm.add_constant(new_tenure)\n",
    "predicted_satisfaction = results.predict(new_X)\n",
    "\n",
    "# Print the predicted job satisfaction\n",
    "print(\"Predicted Satisfaction:\", predicted_satisfaction)\n"
   ]
  },
  {
   "cell_type": "markdown",
   "id": "ba6444b5",
   "metadata": {},
   "source": [
    "15. Scenario: A study is conducted to compare the preferences of two groups of participants. The preferences are measured on a Likert scale from 1 to 5. The data collected is as follows:\n",
    "    Group A: [4, 3, 5, 2, 4]\n",
    "    Group B: [3, 2, 4, 3, 3]\n",
    "    Perform a Mann-Whitney U test to determine if there is a significant difference in the median preferences between the two groups.\n"
   ]
  },
  {
   "cell_type": "code",
   "execution_count": 16,
   "id": "38d9e8b3",
   "metadata": {},
   "outputs": [
    {
     "name": "stdout",
     "output_type": "stream",
     "text": [
      "U statistic: 17.0\n",
      "P-value: 0.380836480306712\n",
      "Fail to reject the null hypothesis\n"
     ]
    }
   ],
   "source": [
    "import scipy.stats as stats\n",
    "\n",
    "group_a = [4, 3, 5, 2, 4]\n",
    "group_b = [3, 2, 4, 3, 3]\n",
    "\n",
    "# States Hypotshesis\n",
    "#Null_hypothesis - There is no significant difference in the median preferences between the two groups.\n",
    "#Alternate_hypothesis - There is a significant difference in the median preferences between the two groups.\n",
    "\n",
    "# Perform Mann-Whitney U test\n",
    "statistic, p_value = stats.mannwhitneyu(group_a, group_b, alternative='two-sided')\n",
    "\n",
    "# Print results\n",
    "print(\"U statistic:\", statistic)\n",
    "print(\"P-value:\", p_value)\n",
    "\n",
    "if p_value < significance_level:\n",
    "    print(\"Reject the null hypothesis\")\n",
    "else:\n",
    "    print(\"Fail to reject the null hypothesis\")"
   ]
  },
  {
   "cell_type": "markdown",
   "id": "098bb2ba",
   "metadata": {},
   "source": [
    "### Conclusion - There is no significant difference in the median preferences between the two groups."
   ]
  },
  {
   "cell_type": "markdown",
   "id": "c1f7dbb7",
   "metadata": {},
   "source": [
    "16. Scenario: A company wants to analyze the distribution of customer ages. The data collected is as follows:\n",
    "    [25, 30, 35, 40, 45, 50, 55, 60, 65, 70]\n",
    "    Calculate the interquartile range (IQR) of the ages."
   ]
  },
  {
   "cell_type": "code",
   "execution_count": 17,
   "id": "013c66cc",
   "metadata": {},
   "outputs": [
    {
     "name": "stdout",
     "output_type": "stream",
     "text": [
      "The interquartile range (IQR) of the ages : 22.5\n"
     ]
    }
   ],
   "source": [
    "data = [25, 30, 35, 40, 45, 50, 55, 60, 65, 70]\n",
    "p25 = np.percentile(data,25)\n",
    "p75 = np.percentile(data,75)\n",
    "IQR = p75 - p25\n",
    "print(\"The interquartile range (IQR) of the ages :\",IQR)"
   ]
  },
  {
   "cell_type": "markdown",
   "id": "c3a6b7d4",
   "metadata": {},
   "source": [
    "17. Scenario: A study is conducted to compare the performance of three different machine learning algorithms. The accuracy scores for each algorithm are as follows:\n",
    "    Algorithm A: [0.85, 0.80, 0.82, 0.87, 0.83]\n",
    "    Algorithm B: [0.78, 0.82, 0.84, 0.80, 0.79]\n",
    "    Algorithm C: [0.90, 0.88, 0.89, 0.86, 0.87]\n",
    "    Perform a Kruskal-Wallis test to determine if there is a significant difference in the median accuracy scores between the algorithms."
   ]
  },
  {
   "cell_type": "code",
   "execution_count": 18,
   "id": "08eb28c0",
   "metadata": {},
   "outputs": [
    {
     "name": "stdout",
     "output_type": "stream",
     "text": [
      "Kruskal-Wallis Statistic: 9.696947935368053\n",
      "P-Value: 0.007840333026249539\n",
      "Reject the null hypothesis\n"
     ]
    }
   ],
   "source": [
    "import scipy.stats as stats\n",
    "\n",
    "algorithm_a = [0.85, 0.80, 0.82, 0.87, 0.83]\n",
    "algorithm_b = [0.78, 0.82, 0.84, 0.80, 0.79]\n",
    "algorithm_c = [0.90, 0.88, 0.89, 0.86, 0.87]\n",
    "\n",
    "# States Hypotshesis\n",
    "#Null_hypothesis - There is no significant difference in the median accuracy scores between the algorithms.\n",
    "#Alternate_hypothesis - There is a significant difference in the median accuracy scores between the algorithms.\n",
    "\n",
    "# Perform Kruskal-Wallis test\n",
    "statistic, p_value = stats.kruskal(algorithm_a, algorithm_b, algorithm_c)\n",
    "\n",
    "# Print results\n",
    "print(\"Kruskal-Wallis Statistic:\", statistic)\n",
    "print(\"P-Value:\", p_value)\n",
    "\n",
    "if p_value < significance_level:\n",
    "    print(\"Reject the null hypothesis\")\n",
    "else:\n",
    "    print(\"Fail to reject the null hypothesis\")"
   ]
  },
  {
   "cell_type": "markdown",
   "id": "7821efa5",
   "metadata": {},
   "source": [
    "### Conclusion -  There is a significant difference in the median accuracy scores between the algorithms"
   ]
  },
  {
   "cell_type": "markdown",
   "id": "22b7f450",
   "metadata": {},
   "source": [
    "18. Scenario: A company wants to analyze the effect of price on sales. The data collected is as follows:\n",
    "    Price (in dollars): [10, 15, 12, 8, 14]\n",
    "    Sales: [100, 80, 90, 110, 95]\n",
    "    Perform a simple linear regression to predict sales based on price."
   ]
  },
  {
   "cell_type": "code",
   "execution_count": 19,
   "id": "a529ccc2",
   "metadata": {},
   "outputs": [
    {
     "name": "stdout",
     "output_type": "stream",
     "text": [
      "Regression Coefficients:\n",
      "[136.37195122  -3.50609756]\n",
      "\n",
      "Regression Summary:\n",
      "                            OLS Regression Results                            \n",
      "==============================================================================\n",
      "Dep. Variable:                      y   R-squared:                       0.806\n",
      "Model:                            OLS   Adj. R-squared:                  0.742\n",
      "Method:                 Least Squares   F-statistic:                     12.50\n",
      "Date:                Mon, 10 Jul 2023   Prob (F-statistic):             0.0385\n",
      "Time:                        20:05:14   Log-Likelihood:                -14.503\n",
      "No. Observations:                   5   AIC:                             33.01\n",
      "Df Residuals:                       3   BIC:                             32.22\n",
      "Df Model:                           1                                         \n",
      "Covariance Type:            nonrobust                                         \n",
      "==============================================================================\n",
      "                 coef    std err          t      P>|t|      [0.025      0.975]\n",
      "------------------------------------------------------------------------------\n",
      "const        136.3720     11.976     11.387      0.001      98.259     174.485\n",
      "x1            -3.5061      0.992     -3.535      0.039      -6.663      -0.350\n",
      "==============================================================================\n",
      "Omnibus:                          nan   Durbin-Watson:                   0.811\n",
      "Prob(Omnibus):                    nan   Jarque-Bera (JB):                0.632\n",
      "Skew:                           0.770   Prob(JB):                        0.729\n",
      "Kurtosis:                       2.186   Cond. No.                         57.3\n",
      "==============================================================================\n",
      "\n",
      "Notes:\n",
      "[1] Standard Errors assume that the covariance matrix of the errors is correctly specified.\n",
      "Predicted Satisfaction: [ 20.67073171  10.15243902  -3.87195122 136.37195122 118.84146341\n",
      "  83.7804878 ]\n"
     ]
    },
    {
     "name": "stderr",
     "output_type": "stream",
     "text": [
      "C:\\Users\\RACHIT\\anaconda3\\lib\\site-packages\\statsmodels\\stats\\stattools.py:74: ValueWarning: omni_normtest is not valid with less than 8 observations; 5 samples were given.\n",
      "  warn(\"omni_normtest is not valid with less than 8 observations; %i \"\n"
     ]
    }
   ],
   "source": [
    "Price  = [10, 15, 12, 8, 14] #(in dollars)\n",
    "Sales = [100, 80, 90, 110, 95] \n",
    "\n",
    "# Add a constant term to the X data\n",
    "X = sm.add_constant(Price)\n",
    "\n",
    "# Fit the linear regression model\n",
    "model = sm.OLS(Sales, X)\n",
    "results = model.fit()\n",
    "\n",
    "# Print the regression coefficients and summary\n",
    "print(\"Regression Coefficients:\")\n",
    "print(results.params)\n",
    "print(\"\\nRegression Summary:\")\n",
    "print(results.summary())\n",
    "\n",
    "# Predict job satisfaction for new tenure values\n",
    "new_price = np.array([[21], [26], [40], [19], [35], [25]])\n",
    "new_X = sm.add_constant(new_tenure)\n",
    "predicted_satisfaction = results.predict(new_X)\n",
    "\n",
    "# Print the predicted job satisfaction\n",
    "print(\"Predicted Satisfaction:\", predicted_satisfaction)\n"
   ]
  },
  {
   "cell_type": "markdown",
   "id": "037b6dbb",
   "metadata": {},
   "source": [
    "19. Scenario: A survey is conducted to measure the satisfaction levels of customers with a new product. The data collected is as follows:\n",
    "    [7, 8, 9, 6, 8, 7, 9, 7, 8, 7]\n",
    "    Calculate the standard error of the mean satisfaction score."
   ]
  },
  {
   "cell_type": "code",
   "execution_count": 20,
   "id": "dbb9a98b",
   "metadata": {},
   "outputs": [
    {
     "name": "stdout",
     "output_type": "stream",
     "text": [
      "Standard Error: 0.30550504633038933\n"
     ]
    }
   ],
   "source": [
    "import numpy as np\n",
    "\n",
    "data = [7, 8, 9, 6, 8, 7, 9, 7, 8, 7]\n",
    "\n",
    "# Calculate the sample size and standard deviation\n",
    "sample_size = len(data)\n",
    "standard_deviation = np.std(data, ddof=1)\n",
    "\n",
    "# Calculate the standard error\n",
    "standard_error = standard_deviation / np.sqrt(sample_size)\n",
    "\n",
    "# Print the standard error\n",
    "print(\"Standard Error:\", standard_error)\n"
   ]
  },
  {
   "cell_type": "markdown",
   "id": "e71447f2",
   "metadata": {},
   "source": [
    "20. Scenario: A company wants to analyze the relationship between advertising expenditure and sales. The data collected is as follows:\n",
    "    Advertising Expenditure (in thousands): [10, 15, 12, 8, 14]\n",
    "    Sales (in thousands): [25, 30, 28, 20, 26]\n",
    "    Perform a multiple regression analysis to predict sales based on advertising expenditure."
   ]
  },
  {
   "cell_type": "code",
   "execution_count": 21,
   "id": "43b52212",
   "metadata": {},
   "outputs": [
    {
     "name": "stdout",
     "output_type": "stream",
     "text": [
      "Regression Coefficients:\n",
      "[12.20121951  1.15243902]\n",
      "\n",
      "Regression Summary:\n",
      "                            OLS Regression Results                            \n",
      "==============================================================================\n",
      "Dep. Variable:                      y   R-squared:                       0.767\n",
      "Model:                            OLS   Adj. R-squared:                  0.689\n",
      "Method:                 Least Squares   F-statistic:                     9.872\n",
      "Date:                Mon, 10 Jul 2023   Prob (F-statistic):             0.0516\n",
      "Time:                        20:05:14   Log-Likelihood:                -9.5288\n",
      "No. Observations:                   5   AIC:                             23.06\n",
      "Df Residuals:                       3   BIC:                             22.28\n",
      "Df Model:                           1                                         \n",
      "Covariance Type:            nonrobust                                         \n",
      "==============================================================================\n",
      "                 coef    std err          t      P>|t|      [0.025      0.975]\n",
      "------------------------------------------------------------------------------\n",
      "const         12.2012      4.429      2.755      0.070      -1.893      26.296\n",
      "x1             1.1524      0.367      3.142      0.052      -0.015       2.320\n",
      "==============================================================================\n",
      "Omnibus:                          nan   Durbin-Watson:                   1.136\n",
      "Prob(Omnibus):                    nan   Jarque-Bera (JB):                0.546\n",
      "Skew:                          -0.267   Prob(JB):                        0.761\n",
      "Kurtosis:                       1.471   Cond. No.                         57.3\n",
      "==============================================================================\n",
      "\n",
      "Notes:\n",
      "[1] Standard Errors assume that the covariance matrix of the errors is correctly specified.\n",
      "Predicted Satisfaction: [50.23170732 53.68902439 58.29878049 12.20121951 17.96341463 29.48780488]\n"
     ]
    },
    {
     "name": "stderr",
     "output_type": "stream",
     "text": [
      "C:\\Users\\RACHIT\\anaconda3\\lib\\site-packages\\statsmodels\\stats\\stattools.py:74: ValueWarning: omni_normtest is not valid with less than 8 observations; 5 samples were given.\n",
      "  warn(\"omni_normtest is not valid with less than 8 observations; %i \"\n"
     ]
    }
   ],
   "source": [
    "Advertising_Expenditure = [10, 15, 12, 8, 14] #(in thousands)\n",
    "Sales  = [25, 30, 28, 20, 26] #(in thousands)\n",
    "\n",
    "# Add a constant term to the X data\n",
    "X = sm.add_constant(Price)\n",
    "\n",
    "# Fit the linear regression model\n",
    "model = sm.OLS(Sales, X)\n",
    "results = model.fit()\n",
    "\n",
    "# Print the regression coefficients and summary\n",
    "print(\"Regression Coefficients:\")\n",
    "print(results.params)\n",
    "print(\"\\nRegression Summary:\")\n",
    "print(results.summary())\n",
    "\n",
    "# Predict job satisfaction for new tenure values\n",
    "new_price = np.array([[21], [26], [40], [19], [35], [25]])\n",
    "new_X = sm.add_constant(new_tenure)\n",
    "predicted_satisfaction = results.predict(new_X)\n",
    "\n",
    "# Print the predicted job satisfaction\n",
    "print(\"Predicted Satisfaction:\", predicted_satisfaction)"
   ]
  }
 ],
 "metadata": {
  "kernelspec": {
   "display_name": "Python 3 (ipykernel)",
   "language": "python",
   "name": "python3"
  },
  "language_info": {
   "codemirror_mode": {
    "name": "ipython",
    "version": 3
   },
   "file_extension": ".py",
   "mimetype": "text/x-python",
   "name": "python",
   "nbconvert_exporter": "python",
   "pygments_lexer": "ipython3",
   "version": "3.9.16"
  }
 },
 "nbformat": 4,
 "nbformat_minor": 5
}
