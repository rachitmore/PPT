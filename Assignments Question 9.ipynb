{
 "cells": [
  {
   "cell_type": "markdown",
   "id": "d1e3340d",
   "metadata": {},
   "source": [
    "<aside>\n",
    "💡 **Question 1**\n",
    "\n",
    "Given an integer `n`, return *`true` if it is a power of two. Otherwise, return `false`*.\n",
    "\n",
    "An integer `n` is a power of two, if there exists an integer `x` such that `n == 2x`.\n",
    "\n",
    "**Example 1:**\n",
    "Input: n = 1 \n",
    "\n",
    "Output: true\n",
    "\n",
    "**Example 2:**\n",
    "Input: n = 16 \n",
    "\n",
    "Output: true\n",
    "\n",
    "**Example 3:**\n",
    "Input: n = 3 \n",
    "\n",
    "Output: false\n",
    "\n",
    "</aside>"
   ]
  },
  {
   "cell_type": "code",
   "execution_count": 11,
   "id": "27146005",
   "metadata": {},
   "outputs": [
    {
     "name": "stdout",
     "output_type": "stream",
     "text": [
      "True\n"
     ]
    }
   ],
   "source": [
    "## implementation\n",
    "def ispowerOftwo(n):\n",
    "    if (n == 0):\n",
    "        return False\n",
    "    while (n != 1):\n",
    "        if (n % 2 != 0):\n",
    "            return False\n",
    "        n = n // 2\n",
    " \n",
    "    return True\n",
    "\n",
    "# driver code\n",
    "n = 4\n",
    "result = ispowerOftwo(n)\n",
    "print(result)"
   ]
  },
  {
   "cell_type": "markdown",
   "id": "25aafccf",
   "metadata": {},
   "source": [
    "<aside>\n",
    "💡 **Question 2**\n",
    "Given a number n, find the sum of the first natural numbers.\n",
    "\n",
    "**Example 1:**\n",
    "\n",
    "Input: n = 3 \n",
    "\n",
    "Output: 6\n",
    "\n",
    "**Example 2:**\n",
    "\n",
    "Input  : 5 \n",
    "\n",
    "Output : 15"
   ]
  },
  {
   "cell_type": "code",
   "execution_count": 2,
   "id": "0ec04666",
   "metadata": {},
   "outputs": [
    {
     "name": "stdout",
     "output_type": "stream",
     "text": [
      "Sum of the first 0 natural number is   0\n"
     ]
    }
   ],
   "source": [
    "## implementation of Sum of first n natural number\n",
    "def sumOfNaturalNumber(n):\n",
    "    if n == 1 or n == 0:  # if number is 1 return 1 \n",
    "        return n\n",
    "    else:\n",
    "        return n+sumOfNaturalNumber(n-1)\n",
    "    \n",
    "# Driver code \n",
    "n = 0\n",
    "result = sumOfNaturalNumber(n)\n",
    "print(f\"Sum of the first {n} natural number is  \",result)"
   ]
  },
  {
   "cell_type": "markdown",
   "id": "da77f6e6",
   "metadata": {},
   "source": [
    "<aside>\n",
    "💡 **Question 3**\n",
    "\n",
    "****Given a positive integer, N. Find the factorial of N. \n",
    "\n",
    "**Example 1:**\n",
    "\n",
    "Input: N = 5 \n",
    "\n",
    "Output: 120\n",
    "\n",
    "**Example 2:**\n",
    "\n",
    "Input: N = 4\n",
    "\n",
    "Output: 24\n",
    "\n",
    "</aside>"
   ]
  },
  {
   "cell_type": "code",
   "execution_count": 5,
   "id": "1101d106",
   "metadata": {},
   "outputs": [
    {
     "name": "stdout",
     "output_type": "stream",
     "text": [
      "Factorial of 10 number is  3628800\n"
     ]
    }
   ],
   "source": [
    "## Implementation of factorial of n number \n",
    "def factorial(n):\n",
    "    if n == 1 :\n",
    "        return n\n",
    "    else:\n",
    "        return n*factorial(n-1)\n",
    "## driver code \n",
    "n = 10\n",
    "result = factorial(n)\n",
    "print(f\"Factorial of {n} number is \",result)"
   ]
  },
  {
   "cell_type": "markdown",
   "id": "761b27e4",
   "metadata": {},
   "source": [
    "<aside>\n",
    "💡 **Question 4**\n",
    "\n",
    "Given a number N and a power P, the task is to find the exponent of this number raised to the given power, i.e. N^P.\n",
    "\n",
    "**Example 1 :** \n",
    "\n",
    "Input: N = 5, P = 2\n",
    "\n",
    "Output: 25\n",
    "\n",
    "**Example 2 :**\n",
    "Input: N = 2, P = 5\n",
    "\n",
    "Output: 32\n",
    "\n",
    "</aside>"
   ]
  },
  {
   "cell_type": "code",
   "execution_count": 8,
   "id": "40de8f34",
   "metadata": {},
   "outputs": [
    {
     "name": "stdout",
     "output_type": "stream",
     "text": [
      "The exponents of the number 2 raised to the 5 power is  32\n"
     ]
    }
   ],
   "source": [
    "## implementation\n",
    "def exponents(n,p):\n",
    "    if p == 0:\n",
    "        return 1\n",
    "    elif p == 1 :\n",
    "        return n\n",
    "    else:\n",
    "        return n * exponents(n,p-1)\n",
    "## driver code\n",
    "n = 2\n",
    "p = 5\n",
    "result = exponents(n,p)\n",
    "print(f\"The exponents of the number {n} raised to the {p} power is \",result)"
   ]
  },
  {
   "cell_type": "markdown",
   "id": "c48f007b",
   "metadata": {},
   "source": [
    "<aside>\n",
    "💡 **Question 5**\n",
    "\n",
    "Given an array of integers **arr**, the task is to find maximum element of that array using recursion.\n",
    "\n",
    "**Example 1:**\n",
    "\n",
    "Input: arr = {1, 4, 3, -5, -4, 8, 6};\n",
    "Output: 8\n",
    "\n",
    "**Example 2:**\n",
    "\n",
    "Input: arr = {1, 4, 45, 6, 10, -8};\n",
    "Output: 45\n",
    "\n",
    "</aside>"
   ]
  },
  {
   "cell_type": "code",
   "execution_count": 2,
   "id": "1c1c48a9",
   "metadata": {},
   "outputs": [
    {
     "name": "stdout",
     "output_type": "stream",
     "text": [
      "Maximum element of the [45, 65, 75, 46, 94, 22] is  94\n"
     ]
    }
   ],
   "source": [
    "#implementation\n",
    "def maximunElement(arr):\n",
    "    max_element = 0\n",
    "    for i in arr:\n",
    "        if i>max_element:\n",
    "            max_element=i\n",
    "    return max_element\n",
    "    \n",
    "\n",
    "### driver code\n",
    "arr = [45,65,75,46,94,22]\n",
    "result = maximunElement(arr)\n",
    "print(f\"Maximum element of the {arr} is \",result)"
   ]
  },
  {
   "cell_type": "markdown",
   "id": "6a21e078",
   "metadata": {},
   "source": [
    "<aside>\n",
    "💡 **Question 6**\n",
    "\n",
    "Given first term (a), common difference (d) and a integer N of the Arithmetic Progression series, the task is to find Nth term of the series.\n",
    "\n",
    "**Example 1:**\n",
    "\n",
    "Input : a = 2 d = 1 N = 5\n",
    "Output : 6\n",
    "The 5th term of the series is : 6\n",
    "\n",
    "**Example 2:**\n",
    "\n",
    "Input : a = 5 d = 2 N = 10\n",
    "Output : 23\n",
    "The 10th term of the series is : 23\n",
    "\n",
    "</aside>"
   ]
  },
  {
   "cell_type": "code",
   "execution_count": 16,
   "id": "9022fd27",
   "metadata": {},
   "outputs": [
    {
     "name": "stdout",
     "output_type": "stream",
     "text": [
      "The 5 th term of the series is : 6\n"
     ]
    }
   ],
   "source": [
    "## implementation\n",
    "def nthOfArithmeticProgression(a,d,n) :\n",
    "    # using formula to find the\n",
    "    # Nth term t(n) = a(1) + (n-1)*d\n",
    "    return (a + (n - 1) * d)\n",
    "      \n",
    "\n",
    "# driver code\n",
    "a = 2  # starting number\n",
    "d = 1  # Common difference\n",
    "n = 5  # n th term to be find\n",
    "result = nthOfArithmeticProgression(a, d, n)\n",
    "# Display the output\n",
    "print( \"The\",n,\"th term of the series is :\",result)"
   ]
  },
  {
   "cell_type": "markdown",
   "id": "72c55f40",
   "metadata": {},
   "source": [
    "<aside>\n",
    "💡 **Question 7**\n",
    "\n",
    "Given a string S, the task is to write a program to print all permutations of a given string.\n",
    "\n",
    "**Example 1:**\n",
    "\n",
    "***Input:***\n",
    "\n",
    "*S = “ABC”*\n",
    "\n",
    "***Output:***\n",
    "\n",
    "*“ABC”, “ACB”, “BAC”, “BCA”, “CBA”, “CAB”*\n",
    "\n",
    "**Example 2:**\n",
    "\n",
    "***Input:***\n",
    "\n",
    "*S = “XY”*\n",
    "\n",
    "***Output:***\n",
    "\n",
    "*“XY”, “YX”*\n",
    "\n",
    "</aside>"
   ]
  },
  {
   "cell_type": "code",
   "execution_count": 21,
   "id": "2b36661d",
   "metadata": {},
   "outputs": [
    {
     "name": "stdout",
     "output_type": "stream",
     "text": [
      "ABCD\n",
      "ABDC\n",
      "ACBD\n",
      "ACDB\n",
      "ADCB\n",
      "ADBC\n",
      "BACD\n",
      "BADC\n",
      "BCAD\n",
      "BCDA\n",
      "BDCA\n",
      "BDAC\n",
      "CBAD\n",
      "CBDA\n",
      "CABD\n",
      "CADB\n",
      "CDAB\n",
      "CDBA\n",
      "DBCA\n",
      "DBAC\n",
      "DCBA\n",
      "DCAB\n",
      "DACB\n",
      "DABC\n"
     ]
    }
   ],
   "source": [
    "## implementation\n",
    "def toString(List):\n",
    "    return ''.join(List)\n",
    "\n",
    "def permute(a, l, r):\n",
    "    if l == r:\n",
    "        print(toString(a))\n",
    "    else:\n",
    "        for i in range(l, r):\n",
    "            a[l], a[i] = a[i], a[l]\n",
    "            permute(a,l+1, r)\n",
    "            a[l], a[i] = a[i], a[l]  # backtrack\n",
    " \n",
    " \n",
    "# Driver code\n",
    "string = \"ABCD\"\n",
    "n = len(string)\n",
    "a = list(string)\n",
    " \n",
    "# Function call\n",
    "permute(a, 0, n)\n",
    " "
   ]
  },
  {
   "cell_type": "markdown",
   "id": "61fbea8a",
   "metadata": {},
   "source": [
    "<aside>\n",
    "💡 **Question 8**\n",
    "\n",
    "Given an array, find a product of all array elements.\n",
    "\n",
    "**Example 1:**\n",
    "\n",
    "Input  : arr[] = {1, 2, 3, 4, 5}\n",
    "Output : 120\n",
    "**Example 2:**\n",
    "\n",
    "Input  : arr[] = {1, 6, 3}\n",
    "Output : 18\n",
    "\n",
    "</aside>"
   ]
  },
  {
   "cell_type": "code",
   "execution_count": 24,
   "id": "0ba05954",
   "metadata": {},
   "outputs": [
    {
     "name": "stdout",
     "output_type": "stream",
     "text": [
      "The product of the array [4, 5, 7] is  140\n"
     ]
    }
   ],
   "source": [
    "## implementation\n",
    "def productArray(arr):\n",
    "    initial = 1\n",
    "    for i in arr:\n",
    "        initial*=i\n",
    "\n",
    "    return initial\n",
    "\n",
    "## driver code\n",
    "arr = [4,5,7]\n",
    "result = productArray(arr)\n",
    "print(f\"The product of the array {arr} is \",result)"
   ]
  }
 ],
 "metadata": {
  "kernelspec": {
   "display_name": "Python 3 (ipykernel)",
   "language": "python",
   "name": "python3"
  },
  "language_info": {
   "codemirror_mode": {
    "name": "ipython",
    "version": 3
   },
   "file_extension": ".py",
   "mimetype": "text/x-python",
   "name": "python",
   "nbconvert_exporter": "python",
   "pygments_lexer": "ipython3",
   "version": "3.9.16"
  }
 },
 "nbformat": 4,
 "nbformat_minor": 5
}
